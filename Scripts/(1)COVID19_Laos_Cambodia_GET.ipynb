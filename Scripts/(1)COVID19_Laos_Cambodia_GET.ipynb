{
 "cells": [
  {
   "cell_type": "markdown",
   "metadata": {},
   "source": [
    "# COVID-19 Data Crawl on Wikipedia\n",
    "Data on numbers of confirmed, recovered cases, and deaths for COVID-19 in the developing countries is fragmented and not always provided in consistent or machine-friendly formats. Also, in many cases only the latest numbers are available so it's not possible to look at changes over time.\n",
    "\n",
    "This small Python script will crawl historical data from Wikipedia and export to an Excel file for HAPRI's partners in the respective country to double check. Data from this crawl only serves as reference.\n",
    "\n",
    "This raw data will be cleaned with STATA in the next step.\n",
    "\n",
    "For technical issue and further questions, please email Định Nguyễn, Research Associate, DinhNX@ueh.edu.vn."
   ]
  },
  {
   "cell_type": "markdown",
   "metadata": {},
   "source": [
    "## Import relevent packages"
   ]
  },
  {
   "cell_type": "code",
   "execution_count": 1,
   "metadata": {},
   "outputs": [],
   "source": [
    "import os\n",
    "import pandas as pd\n",
    "from openpyxl import load_workbook"
   ]
  },
  {
   "cell_type": "markdown",
   "metadata": {},
   "source": [
    "## Set working directory"
   ]
  },
  {
   "cell_type": "code",
   "execution_count": 2,
   "metadata": {},
   "outputs": [],
   "source": [
    "os.chdir('D:\\Dropbox (Vo Tat Thang)\\[0][Master]Database\\(1)Library_of_Data\\Web-Scrap') # Provide the path here"
   ]
  },
  {
   "cell_type": "markdown",
   "metadata": {},
   "source": [
    "## Set up lists"
   ]
  },
  {
   "cell_type": "code",
   "execution_count": 3,
   "metadata": {},
   "outputs": [],
   "source": [
    "country_name = [\"Cambodia\",\n",
    "                \"Laos\"]\n",
    "country_url = ['https://en.wikipedia.org/wiki/2020_coronavirus_pandemic_in_Cambodia', \n",
    "               'https://en.wikipedia.org/wiki/2020_coronavirus_pandemic_in_Laos']\n",
    "country_table = ['3', '1']"
   ]
  },
  {
   "cell_type": "markdown",
   "metadata": {},
   "source": [
    "## Begin crawling"
   ]
  },
  {
   "cell_type": "code",
   "execution_count": 4,
   "metadata": {
    "scrolled": false
   },
   "outputs": [
    {
     "name": "stdout",
     "output_type": "stream",
     "text": [
      "Crawling: Cambodia\n",
      "Crawling: Laos\n"
     ]
    }
   ],
   "source": [
    "i = 1\n",
    "for url, name, table in zip(country_url, country_name, country_table):\n",
    "\n",
    "    df = pd.read_html(url, header=0)[int(table)]\n",
    "\n",
    "    print(\"Crawling: {}\".format(name))\n",
    "    \n",
    "    #Create new excel file for first sheet\n",
    "    if i == 1:\n",
    "\n",
    "        writer = pd.ExcelWriter(os.path.join(\"DATARAW\", 'COVID19_uncleaned.xlsx'), engine = 'openpyxl')\n",
    "        df.to_excel(writer \\\n",
    "                    , sheet_name = name \\\n",
    "                    , index = False)\n",
    "        writer.save()\n",
    "        writer.close() \n",
    "\n",
    "    #Append new sheet to the newly created excel file\n",
    "    elif i != 1: \n",
    "\n",
    "        book = load_workbook(os.path.join(\"DATARAW\", 'COVID19_uncleaned.xlsx'))\n",
    "        writer = pd.ExcelWriter(os.path.join(\"DATARAW\", 'COVID19_uncleaned.xlsx'), engine = 'openpyxl')\n",
    "        writer.book = book  \n",
    "        df.to_excel(writer \\\n",
    "                    , sheet_name = name \\\n",
    "                    , index = False)\n",
    "        writer.save()\n",
    "        writer.close() \n",
    "\n",
    "    else:\n",
    "\n",
    "        print(\"Something is wrong\")\n",
    "\n",
    "    i += 1"
   ]
  },
  {
   "cell_type": "markdown",
   "metadata": {},
   "source": [
    "# Check crawl accuracy"
   ]
  },
  {
   "cell_type": "code",
   "execution_count": 5,
   "metadata": {},
   "outputs": [
    {
     "data": {
      "text/plain": [
       "['Cambodia', 'Laos']"
      ]
     },
     "execution_count": 5,
     "metadata": {},
     "output_type": "execute_result"
    }
   ],
   "source": [
    "book = load_workbook(os.path.join(\"DATARAW\", 'COVID19_uncleaned.xlsx'))\n",
    "book.sheetnames"
   ]
  },
  {
   "cell_type": "code",
   "execution_count": 6,
   "metadata": {},
   "outputs": [
    {
     "name": "stdout",
     "output_type": "stream",
     "text": [
      "|    |   Case | Date          |   Age | Gen⁠der   | National⁠ity      | Location      |   Treatment facility | Previous country been to   | Status     | Note                                                                      |   Source |\n",
      "|---:|-------:|:--------------|------:|:---------|:-----------------|:--------------|---------------------:|:---------------------------|:-----------|:--------------------------------------------------------------------------|---------:|\n",
      "|  0 |      1 | 24 March 2020 |    28 | Male     | Laos             | Vientiane     |                  nan | Thailand                   | In patient | nan                                                                       |      nan |\n",
      "|  1 |      2 | 24 March 2020 |    36 | Female   | Laos             | Vientiane     |                  nan | No                         | In patient | Tour guide                                                                |      nan |\n",
      "|  2 |      3 | 25 March 2020 |    26 | Male     | Laos             | Vientiane     |                  nan | Europe                     | In patient | Close contact with case 1                                                 |      nan |\n",
      "|  3 |      4 | 26 March 2020 |    42 | Male     | Laos             | Luang Prabang |                  nan | No                         | In patient | Driver of same tour group as case 2.                                      |      nan |\n",
      "|  4 |      5 | 26 March 2020 |    42 | Male     | Laos             | Luang Prabang |                  nan | No                         | In patient | nan                                                                       |      nan |\n",
      "|  5 |      6 | 26 March 2020 |    41 | Male     | Laos             | Vientiane     |                  nan | No                         | In patient | Close contact with case 3                                                 |      nan |\n",
      "|  6 |      7 | 28 March 2020 |    50 | Female   | Laos             | Luang Prabang |                  nan | No                         | In patient | Wife of case 5                                                            |      nan |\n",
      "|  7 |      8 | 28 March 2020 |    18 | Male     | Laos             | Vientiane     |                  nan | No                         | In patient | Close contact with case 3                                                 |      nan |\n",
      "|  8 |      9 | 29 March 2020 |    22 | Female   | Laos             | Vientiane     |                  nan | Thailand                   | In patient | Visited her relative in Bangkok                                           |      nan |\n",
      "|  9 |     10 | 25 March 2020 |    21 | Female   | Laos             | Vientiane     |                  nan | No                         | In patient | Close contact with case 8                                                 |      nan |\n",
      "| 10 |     11 | 5 April 2020  |    55 | Male     | Papua New Guinea | Vientiane     |                  nan | Papua New Guinea           | In patient | Mining company employee                                                   |      nan |\n",
      "| 11 |     12 | 6 April 2020  |    20 | Female   | Laos             | Vientiane     |                  nan | United Kingdom             | In patient | Been on the same flight as case 11 from Bangkok to Vientiane              |      nan |\n",
      "| 12 |     13 | 7 April 2020  |    40 | Male     | Laos             | Vientiane     |                  nan | No                         | In patient | Close contact with case 11                                                |      nan |\n",
      "| 13 |     14 | 7 April 2020  |    19 | Female   | Laos             | Vientiane     |                  nan | United Kingdom             | In patient | nan                                                                       |      nan |\n",
      "| 14 |     15 | 8 April 2020  |    20 | Female   | Laos             | Vientiane     |                  nan | United Kingdom             | In patient | Close contact with case 12. Been on the same flight with cases 11 and 12. |      nan |\n",
      "| 15 |     16 | 10 April 2020 |    23 | Female   | Laos             | Vientiane     |                  nan | No                         | In patient | Close contact with case 10.                                               |      nan |\n",
      "| 16 |     17 | 11 April 2020 |    32 | Female   | Laos             | Vientiane     |                  nan | No                         | In patient | Close contact with case 16.                                               |      nan |\n",
      "| 17 |     18 | 11 April 2020 |    32 | Female   | Laos             | Vientiane     |                  nan | No                         | In patient | Close contact with case 16.                                               |      nan |\n",
      "| 18 |     19 | 12 April 2020 |    21 | Male     | Laos             | Vientiane     |                  nan | No                         | In patient | Close contact with case 16.                                               |      nan |\n"
     ]
    }
   ],
   "source": [
    "df = pd.read_excel(os.path.join(\"DATARAW\", 'COVID19_uncleaned.xlsx'), sheet_name='Laos')\n",
    "print(df.to_markdown())"
   ]
  },
  {
   "cell_type": "code",
   "execution_count": 7,
   "metadata": {
    "scrolled": false
   },
   "outputs": [
    {
     "name": "stdout",
     "output_type": "stream",
     "text": [
      "|    | Province         |   Cases |   Re⁠coveries |\n",
      "|---:|:-----------------|--------:|-------------:|\n",
      "|  0 | Banteay Meanchey |       4 |            3 |\n",
      "|  1 | Battambang       |       8 |            8 |\n",
      "|  2 | Kampong Cham     |      16 |           16 |\n",
      "|  3 | Kampong Chhnang  |       3 |            2 |\n",
      "|  4 | Kampot           |       2 |            2 |\n",
      "|  5 | Kandal           |       2 |            2 |\n",
      "|  6 | Kep              |       4 |            4 |\n",
      "|  7 | Koh Kong         |       2 |            2 |\n",
      "|  8 | Phnom Penh       |      28 |           28 |\n",
      "|  9 | Preah Vihear     |       2 |            2 |\n",
      "| 10 | Siem Reap        |       7 |            7 |\n",
      "| 11 | Sihanoukville    |      40 |           39 |\n",
      "| 12 | Tboung Khmum     |       4 |            4 |\n"
     ]
    }
   ],
   "source": [
    "df = pd.read_excel(os.path.join(\"DATARAW\", 'COVID19_uncleaned.xlsx'), sheet_name='Cambodia')\n",
    "print(df.to_markdown())"
   ]
  },
  {
   "cell_type": "markdown",
   "metadata": {},
   "source": [
    "## Reference\n",
    "1. https://realpython.com/openpyxl-excel-spreadsheets-python/\n",
    "2. https://www.journaldev.com/33306/pandas-read_excel-reading-excel-file-in-python"
   ]
  }
 ],
 "metadata": {
  "kernelspec": {
   "display_name": "Python 3",
   "language": "python",
   "name": "python3"
  },
  "language_info": {
   "codemirror_mode": {
    "name": "ipython",
    "version": 3
   },
   "file_extension": ".py",
   "mimetype": "text/x-python",
   "name": "python",
   "nbconvert_exporter": "python",
   "pygments_lexer": "ipython3",
   "version": "3.8.2"
  }
 },
 "nbformat": 4,
 "nbformat_minor": 4
}
