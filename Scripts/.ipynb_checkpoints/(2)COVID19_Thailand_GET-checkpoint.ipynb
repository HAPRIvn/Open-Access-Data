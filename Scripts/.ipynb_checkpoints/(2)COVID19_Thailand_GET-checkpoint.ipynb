{
 "cells": [
  {
   "cell_type": "markdown",
   "metadata": {},
   "source": [
    "# Import COVID-19 Data cases from Thailand's Department of Decases Control\n",
    "\n",
    "Data is available at https://data.go.th/en/dataset/covid-19-daily"
   ]
  },
  {
   "cell_type": "markdown",
   "metadata": {},
   "source": [
    "## Import relevent packages"
   ]
  },
  {
   "cell_type": "code",
   "execution_count": 1,
   "metadata": {},
   "outputs": [],
   "source": [
    "import os\n",
    "import requests\n",
    "import pandas as pd\n",
    "from openpyxl import load_workbook"
   ]
  },
  {
   "cell_type": "markdown",
   "metadata": {},
   "source": [
    "## Set working directory"
   ]
  },
  {
   "cell_type": "code",
   "execution_count": 2,
   "metadata": {},
   "outputs": [],
   "source": [
    "os.chdir('D:\\Dropbox (Vo Tat Thang)\\[0][Master]Database\\(1)Library_of_Data\\Web-Scrap') # Provide the path here"
   ]
  },
  {
   "cell_type": "markdown",
   "metadata": {},
   "source": [
    "## Set up URL"
   ]
  },
  {
   "cell_type": "code",
   "execution_count": 3,
   "metadata": {},
   "outputs": [],
   "source": [
    "data_url = 'https://covid19.th-stat.com/api/open/cases'"
   ]
  },
  {
   "cell_type": "markdown",
   "metadata": {},
   "source": [
    "## Get data from the server and convert to JSON format"
   ]
  },
  {
   "cell_type": "code",
   "execution_count": 4,
   "metadata": {},
   "outputs": [
    {
     "name": "stdout",
     "output_type": "stream",
     "text": [
      "Last update: 30/04/2020\n"
     ]
    }
   ],
   "source": [
    "response = requests.get(data_url)\n",
    "response_json = response.json()\n",
    "print('Last update: {}'.format(response_json['UpdateDate']))"
   ]
  },
  {
   "cell_type": "markdown",
   "metadata": {},
   "source": [
    "### Extract data and save to Excel format"
   ]
  },
  {
   "cell_type": "code",
   "execution_count": 5,
   "metadata": {},
   "outputs": [],
   "source": [
    "data_json = response_json['Data']"
   ]
  },
  {
   "cell_type": "code",
   "execution_count": 6,
   "metadata": {},
   "outputs": [],
   "source": [
    "writer = pd.ExcelWriter(os.path.join(\"DATARAW\", 'COVID19_Thailand.xlsx'), engine = 'openpyxl')\n",
    "\n",
    "df1 = pd.DataFrame(data_json)\n",
    "df1.to_excel(writer, index = False)\n",
    "\n",
    "writer.save()\n",
    "writer.close()"
   ]
  },
  {
   "cell_type": "markdown",
   "metadata": {},
   "source": [
    "## Check crawl accuracy"
   ]
  },
  {
   "cell_type": "code",
   "execution_count": 12,
   "metadata": {},
   "outputs": [
    {
     "name": "stdout",
     "output_type": "stream",
     "text": [
      "|     | ConfirmDate         |   No |   Age | Gender   | GenderEn   | Nation   | NationEn   | Province      |   ProvinceId | District       | ProvinceEn               |   Detail |\n",
      "|----:|:--------------------|-----:|------:|:---------|:-----------|:---------|:-----------|:--------------|-------------:|:---------------|:-------------------------|---------:|\n",
      "|   0 | 2020-04-30 00:00:00 | 2954 |    15 | ชาย      | Male       | ไทย      | Thai       | กรุงเทพมหานคร  |            1 | nan            | Bangkok                  |      nan |\n",
      "|   1 | 2020-04-30 00:00:00 | 2953 |    26 | ชาย      | Male       | ไทย      | Thai       | กรุงเทพมหานคร  |            1 | nan            | Bangkok                  |      nan |\n",
      "|   2 | 2020-04-30 00:00:00 | 2952 |    21 | ชาย      | Male       | ไทย      | Thai       | กรุงเทพมหานคร  |            1 | nan            | Bangkok                  |      nan |\n",
      "|   3 | 2020-04-30 00:00:00 | 2951 |    31 | ชาย      | Male       | ไทย      | Thai       | ภูเก็ต          |           42 | ถลาง           | Phuket                   |      nan |\n",
      "|   4 | 2020-04-30 00:00:00 | 2950 |    19 | ชาย      | Male       | ไทย      | Thai       | ภูเก็ต          |           42 | ถลาง           | Phuket                   |      nan |\n",
      "|   5 | 2020-04-30 00:00:00 | 2949 |    53 | ชาย      | Male       | ไทย      | Thai       | ภูเก็ต          |           42 | ถลาง           | Phuket                   |      nan |\n",
      "|   6 | 2020-04-30 00:00:00 | 2948 |    29 | หญิง      | Female     | ไทย      | Thai       | กระบี่          |            2 | nan            | Krabi                    |      nan |\n",
      "|   7 | 2020-04-29 00:00:00 | 2944 |    39 | ชาย      | Male       | ไทย      | Thai       | กรุงเทพมหานคร  |            1 | บางกะปิ         | Bangkok                  |      nan |\n",
      "|   8 | 2020-04-29 00:00:00 | 2943 |    57 | หญิง      | Female     | ไทย      | Thai       | กรุงเทพมหานคร  |            1 | คลองสาน        | Bangkok                  |      nan |\n",
      "|   9 | 2020-04-29 00:00:00 | 2939 |     8 | หญิง      | Female     | ไทย      | Thai       | กรุงเทพมหานคร  |            1 | เมือง           | Bangkok                  |      nan |\n",
      "|  10 | 2020-04-29 00:00:00 | 2946 |    22 | หญิง      | Female     | ไทย      | Thai       | สมุทรปราการ    |           60 | nan            | Samut Prakan             |      nan |\n",
      "|  11 | 2020-04-29 00:00:00 | 2945 |    30 | หญิง      | Female     | ไทย      | Thai       | สมุทรปราการ    |           60 | nan            | Samut Prakan             |      nan |\n",
      "|  12 | 2020-04-29 00:00:00 | 2940 |    44 | หญิง      | Female     | ไทย      | Thai       | ภูเก็ต          |           42 | ถลาง           | Phuket                   |      nan |\n",
      "|  13 | 2020-04-29 00:00:00 | 2941 |    62 | หญิง      | Female     | ไทย      | Thai       | ภูเก็ต          |           42 | ถลาง           | Phuket                   |      nan |\n",
      "|  14 | 2020-04-29 00:00:00 | 2947 |    47 | หญิง      | Female     | ไทย      | Thai       | ภูเก็ต          |           42 | เมือง           | Phuket                   |      nan |\n",
      "|  15 | 2020-04-29 00:00:00 | 2942 |    68 | หญิง      | Female     | ไทย      | Thai       | ภูเก็ต          |           42 | ถลาง           | Phuket                   |      nan |\n",
      "|  16 | 2020-04-28 00:00:00 | 2938 |    25 | หญิง      | Female     | จีน       | Chinese    | กรุงเทพมหานคร  |            1 | พัฒนาการ        | Bangkok                  |      nan |\n",
      "|  17 | 2020-04-28 00:00:00 | 2937 |    39 | หญิง      | Female     | ไทย      | Thai       | กรุงเทพมหานคร  |            1 | เมืองสมุทรปราการ | Bangkok                  |      nan |\n",
      "|  18 | 2020-04-28 00:00:00 | 2936 |    50 | หญิง      | Female     | ไทย      | Thai       | ภูเก็ต          |           42 | nan            | Phuket                   |      nan |\n",
      "|  19 | 2020-04-28 00:00:00 | 2935 |    20 | ชาย      | Male       | ไทย      | Thai       | ภูเก็ต          |           42 | nan            | Phuket                   |      nan |\n",
      "|  20 | 2020-04-28 00:00:00 | 2934 |    23 | ชาย      | Male       | ไทย      | Thai       | ภูเก็ต          |           42 | nan            | Phuket                   |      nan |\n",
      "|  21 | 2020-04-28 00:00:00 | 2933 |    37 | หญิง      | Female     | ไทย      | Thai       | กรุงเทพมหานคร  |            1 | nan            | Bangkok                  |      nan |\n",
      "|  22 | 2020-04-28 00:00:00 | 2932 |    34 | หญิง      | Female     | ไทย      | Thai       | นครราชสีมา     |           21 | ขามทะเลสอ      | Nakhon Ratchasima        |      nan |\n",
      "|  23 | 2020-04-27 00:00:00 | 2924 |    24 | ชาย      | Male       | ไทย      | Thai       | สุพรรณบุรี       |           67 | อู่ทอง           | Suphan Buri              |      nan |\n",
      "|  24 | 2020-04-27 00:00:00 | 2931 |    18 | ชาย      | Male       | ไทย      | Thai       | กรุงเทพมหานคร  |            1 | บางคอแหลม      | Bangkok                  |      nan |\n",
      "|  25 | 2020-04-27 00:00:00 | 2928 |    55 | ชาย      | Male       | ไทย      | Thai       | ยะลา          |           47 | บันนังสตา        | Yala                     |      nan |\n",
      "|  26 | 2020-04-27 00:00:00 | 2927 |    54 | ชาย      | Male       | ไทย      | Thai       | ยะลา          |           47 | บันนังสตา        | Yala                     |      nan |\n",
      "|  27 | 2020-04-27 00:00:00 | 2923 |    66 | หญิง      | Female     | ไทย      | Thai       | ภูเก็ต          |           42 | ถลาง           | Phuket                   |      nan |\n",
      "|  28 | 2020-04-27 00:00:00 | 2929 |    34 | ชาย      | Male       | ไทย      | Thai       | ยะลา          |           47 | บันนังสตา        | Yala                     |      nan |\n",
      "|  29 | 2020-04-27 00:00:00 | 2930 |    16 | ชาย      | Male       | ไทย      | Thai       | กรุงเทพมหานคร  |            1 | บางเขน         | Bangkok                  |      nan |\n",
      "|  30 | 2020-04-27 00:00:00 | 2926 |    62 | ชาย      | Male       | ไทย      | Thai       | ยะลา          |           47 | บันนังสตา        | Yala                     |      nan |\n",
      "|  31 | 2020-04-27 00:00:00 | 2925 |    12 | หญิง      | Female     | ไทย      | Thai       | ยะลา          |           47 | ยะหา           | Yala                     |      nan |\n",
      "|  32 | 2020-04-26 00:00:00 | 2922 |    49 | ชาย      | Male       | ไทย      | Thai       | ชลบุรี          |            9 | สัตหีบ           | Chonburi                 |      nan |\n",
      "|  33 | 2020-04-26 00:00:00 | 2921 |    45 | หญิง      | Female     | ไทย      | Thai       | กรุงเทพมหานคร  |            1 | วัฒนา           | Bangkok                  |      nan |\n",
      "|  34 | 2020-04-26 00:00:00 | 2920 |    32 | หญิง      | Female     | ไทย      | Thai       | กรุงเทพมหานคร  |            1 | วัฒนา           | Bangkok                  |      nan |\n",
      "|  35 | 2020-04-26 00:00:00 | 2919 |    42 | หญิง      | Female     | ไทย      | Thai       | กรุงเทพมหานคร  |            1 | วัฒนา           | Bangkok                  |      nan |\n",
      "|  36 | 2020-04-26 00:00:00 | 2918 |    32 | หญิง      | Female     | ไทย      | Thai       | กรุงเทพมหานคร  |            1 | วัฒนา           | Bangkok                  |      nan |\n",
      "|  37 | 2020-04-26 00:00:00 | 2917 |    66 | ชาย      | Male       | ไทย      | Thai       | ยะลา          |           47 | บันนังสตา        | Yala                     |      nan |\n",
      "|  38 | 2020-04-26 00:00:00 | 2916 |    32 | ชาย      | Male       | ไทย      | Thai       | ยะลา          |           47 | บันนังสตา        | Yala                     |      nan |\n",
      "|  39 | 2020-04-26 00:00:00 | 2915 |    60 | ชาย      | Male       | ไทย      | Thai       | นครปฐม        |           19 | บางเลน         | Nakhon Pathom            |      nan |\n",
      "|  40 | 2020-04-26 00:00:00 | 2914 |    27 | ชาย      | Male       | ไทย      | Thai       | กรุงเทพมหานคร  |            1 | จตุจักร          | Bangkok                  |      nan |\n",
      "|  41 | 2020-04-26 00:00:00 | 2913 |    36 | ชาย      | Male       | ไทย      | Thai       | กรุงเทพมหานคร  |            1 | หลักสี่           | Bangkok                  |      nan |\n",
      "|  42 | 2020-04-26 00:00:00 | 2912 |    43 | ชาย      | Male       | ไทย      | Thai       | กรุงเทพมหานคร  |            1 | มีนบุรี           | Bangkok                  |      nan |\n",
      "|  43 | 2020-04-26 00:00:00 | 2911 |    23 | หญิง      | Female     | ไทย      | Thai       | ภูเก็ต          |           42 | ถลาง           | Phuket                   |      nan |\n",
      "|  44 | 2020-04-26 00:00:00 | 2910 |    57 | ชาย      | Male       | ไทย      | Thai       | ภูเก็ต          |           42 | ถลาง           | Phuket                   |      nan |\n",
      "|  45 | 2020-04-26 00:00:00 | 2909 |    62 | ชาย      | Male       | ไทย      | Thai       | ภูเก็ต          |           42 | ถลาง           | Phuket                   |      nan |\n",
      "|  46 | 2020-04-26 00:00:00 | 2908 |    43 | หญิง      | Female     | ไทย      | Thai       | ภูเก็ต          |           42 | ถลาง           | Phuket                   |      nan |\n",
      "|  47 | 2020-04-25 00:00:00 | 2907 |    45 | ชาย      | Male       | พม่า      | Burmese    | สงขลา         |           58 | สะเดา          | Songkhla                 |      nan |\n",
      "|  48 | 2020-04-25 00:00:00 | 2906 |    31 | ชาย      | Male       | พม่า      | Burmese    | สงขลา         |           58 | สะเดา          | Songkhla                 |      nan |\n",
      "|  49 | 2020-04-25 00:00:00 | 2905 |    37 | ชาย      | Male       | พม่า      | Burmese    | สงขลา         |           58 | สะเดา          | Songkhla                 |      nan |\n",
      "|  50 | 2020-04-25 00:00:00 | 2904 |    48 | ชาย      | Male       | พม่า      | Burmese    | สงขลา         |           58 | สะเดา          | Songkhla                 |      nan |\n",
      "|  51 | 2020-04-25 00:00:00 | 2903 |    30 | ชาย      | Male       | พม่า      | Burmese    | สงขลา         |           58 | สะเดา          | Songkhla                 |      nan |\n",
      "|  52 | 2020-04-25 00:00:00 | 2902 |    25 | ชาย      | Male       | เวียดนาม  | Vietnamese | สงขลา         |           58 | สะเดา          | Songkhla                 |      nan |\n",
      "|  53 | 2020-04-25 00:00:00 | 2901 |    18 | ชาย      | Male       | เวียดนาม  | Vietnamese | สงขลา         |           58 | สะเดา          | Songkhla                 |      nan |\n",
      "|  54 | 2020-04-25 00:00:00 | 2900 |    26 | ชาย      | Male       | พม่า      | Burmese    | สงขลา         |           58 | สะเดา          | Songkhla                 |      nan |\n",
      "|  55 | 2020-04-25 00:00:00 | 2899 |    30 | หญิง      | Female     | พม่า      | Burmese    | สงขลา         |           58 | สะเดา          | Songkhla                 |      nan |\n",
      "|  56 | 2020-04-25 00:00:00 | 2898 |    29 | ชาย      | Male       | พม่า      | Burmese    | สงขลา         |           58 | สะเดา          | Songkhla                 |      nan |\n",
      "|  57 | 2020-04-25 00:00:00 | 2897 |    31 | ชาย      | Male       | พม่า      | Burmese    | สงขลา         |           58 | สะเดา          | Songkhla                 |      nan |\n",
      "|  58 | 2020-04-25 00:00:00 | 2896 |    28 | ชาย      | Male       | พม่า      | Burmese    | สงขลา         |           58 | สะเดา          | Songkhla                 |      nan |\n",
      "|  59 | 2020-04-25 00:00:00 | 2895 |    18 | ชาย      | Male       | พม่า      | Burmese    | สงขลา         |           58 | สะเดา          | Songkhla                 |      nan |\n",
      "|  60 | 2020-04-25 00:00:00 | 2894 |    56 | ชาย      | Male       | มาเลเซีย  | Malaysian  | สงขลา         |           58 | สะเดา          | Songkhla                 |      nan |\n",
      "|  61 | 2020-04-25 00:00:00 | 2893 |    32 | ชาย      | Male       | พม่า      | Burmese    | สงขลา         |           58 | สะเดา          | Songkhla                 |      nan |\n",
      "|  62 | 2020-04-25 00:00:00 | 2892 |    16 | ชาย      | Male       | พม่า      | Burmese    | สงขลา         |           58 | สะเดา          | Songkhla                 |      nan |\n",
      "|  63 | 2020-04-25 00:00:00 | 2891 |    18 | ชาย      | Male       | พม่า      | Burmese    | สงขลา         |           58 | สะเดา          | Songkhla                 |      nan |\n",
      "|  64 | 2020-04-25 00:00:00 | 2890 |    32 | ชาย      | Male       | พม่า      | Burmese    | สงขลา         |           58 | สะเดา          | Songkhla                 |      nan |\n",
      "|  65 | 2020-04-25 00:00:00 | 2889 |    28 | ชาย      | Male       | พม่า      | Burmese    | สงขลา         |           58 | สะเดา          | Songkhla                 |      nan |\n",
      "|  66 | 2020-04-25 00:00:00 | 2888 |    20 | ชาย      | Male       | พม่า      | Burmese    | สงขลา         |           58 | สะเดา          | Songkhla                 |      nan |\n",
      "|  67 | 2020-04-25 00:00:00 | 2887 |    43 | ชาย      | Male       | พม่า      | Burmese    | สงขลา         |           58 | สะเดา          | Songkhla                 |      nan |\n",
      "|  68 | 2020-04-25 00:00:00 | 2886 |    27 | หญิง      | Female     | พม่า      | Burmese    | สงขลา         |           58 | สะเดา          | Songkhla                 |      nan |\n",
      "|  69 | 2020-04-25 00:00:00 | 2885 |    26 | ชาย      | Male       | พม่า      | Burmese    | สงขลา         |           58 | สะเดา          | Songkhla                 |      nan |\n",
      "|  70 | 2020-04-25 00:00:00 | 2884 |    43 | ชาย      | Male       | อินเดีย    | Indian     | สงขลา         |           58 | สะเดา          | Songkhla                 |      nan |\n",
      "|  71 | 2020-04-25 00:00:00 | 2883 |    23 | ชาย      | Male       | พม่า      | Burmese    | สงขลา         |           58 | สะเดา          | Songkhla                 |      nan |\n",
      "|  72 | 2020-04-25 00:00:00 | 2882 |    33 | ชาย      | Male       | พม่า      | Burmese    | สงขลา         |           58 | สะเดา          | Songkhla                 |      nan |\n",
      "|  73 | 2020-04-25 00:00:00 | 2881 |    26 | ชาย      | Male       | พม่า      | Burmese    | สงขลา         |           58 | สะเดา          | Songkhla                 |      nan |\n",
      "|  74 | 2020-04-25 00:00:00 | 2880 |    15 | ชาย      | Male       | พม่า      | Burmese    | สงขลา         |           58 | สะเดา          | Songkhla                 |      nan |\n",
      "|  75 | 2020-04-25 00:00:00 | 2879 |    26 | ชาย      | Male       | พม่า      | Burmese    | สงขลา         |           58 | สะเดา          | Songkhla                 |      nan |\n",
      "|  76 | 2020-04-25 00:00:00 | 2878 |    33 | ชาย      | Male       | พม่า      | Burmese    | สงขลา         |           58 | สะเดา          | Songkhla                 |      nan |\n",
      "|  77 | 2020-04-25 00:00:00 | 2877 |    43 | ชาย      | Male       | พม่า      | Burmese    | สงขลา         |           58 | สะเดา          | Songkhla                 |      nan |\n",
      "|  78 | 2020-04-25 00:00:00 | 2876 |     0 | หญิง      | Female     | พม่า      | Burmese    | สงขลา         |           58 | สะเดา          | Songkhla                 |      nan |\n",
      "|  79 | 2020-04-25 00:00:00 | 2875 |    45 | ชาย      | Male       | พม่า      | Burmese    | สงขลา         |           58 | สะเดา          | Songkhla                 |      nan |\n",
      "|  80 | 2020-04-25 00:00:00 | 2874 |    49 | ชาย      | Male       | เยเมน    | nan        | สงขลา         |           58 | สะเดา          | Songkhla                 |      nan |\n",
      "|  81 | 2020-04-25 00:00:00 | 2873 |    29 | ชาย      | Male       | พม่า      | Burmese    | สงขลา         |           58 | สะเดา          | Songkhla                 |      nan |\n",
      "|  82 | 2020-04-25 00:00:00 | 2872 |    38 | ชาย      | Male       | พม่า      | Burmese    | สงขลา         |           58 | สะเดา          | Songkhla                 |      nan |\n",
      "|  83 | 2020-04-25 00:00:00 | 2871 |    33 | ชาย      | Male       | พม่า      | Burmese    | สงขลา         |           58 | สะเดา          | Songkhla                 |      nan |\n",
      "|  84 | 2020-04-25 00:00:00 | 2870 |    23 | หญิง      | Female     | พม่า      | Burmese    | สงขลา         |           58 | สะเดา          | Songkhla                 |      nan |\n",
      "|  85 | 2020-04-25 00:00:00 | 2869 |    18 | หญิง      | Female     | พม่า      | Burmese    | สงขลา         |           58 | สะเดา          | Songkhla                 |      nan |\n",
      "|  86 | 2020-04-25 00:00:00 | 2868 |    41 | ชาย      | Male       | มาเลเซีย  | Malaysian  | สงขลา         |           58 | สะเดา          | Songkhla                 |      nan |\n",
      "|  87 | 2020-04-25 00:00:00 | 2867 |    20 | ชาย      | Male       | กัมพูชา    | Cambodian  | สงขลา         |           58 | สะเดา          | Songkhla                 |      nan |\n",
      "|  88 | 2020-04-25 00:00:00 | 2866 |    51 | หญิง      | Female     | เวียดนาม  | Vietnamese | สงขลา         |           58 | สะเดา          | Songkhla                 |      nan |\n",
      "|  89 | 2020-04-25 00:00:00 | 2865 |    80 | ชาย      | Male       | ไทย      | Thai       | ยะลา          |           47 | บันนังสตา        | Yala                     |      nan |\n",
      "|  90 | 2020-04-25 00:00:00 | 2864 |    63 | ชาย      | Male       | ไทย      | Thai       | ยะลา          |           47 | บันนังสตา        | Yala                     |      nan |\n",
      "|  91 | 2020-04-25 00:00:00 | 2863 |    41 | ชาย      | Male       | ไทย      | Thai       | ยะลา          |           47 | บันนังสตา        | Yala                     |      nan |\n",
      "|  92 | 2020-04-25 00:00:00 | 2862 |    42 | ชาย      | Male       | ไทย      | Thai       | ยะลา          |           47 | บันนังสตา        | Yala                     |      nan |\n",
      "|  93 | 2020-04-25 00:00:00 | 2861 |    54 | หญิง      | Female     | ไทย      | Thai       | ยะลา          |           47 | บันนังสตา        | Yala                     |      nan |\n",
      "|  94 | 2020-04-25 00:00:00 | 2860 |    36 | ชาย      | Male       | ไทย      | Thai       | ยะลา          |           47 | บันนังสตา        | Yala                     |      nan |\n",
      "|  95 | 2020-04-25 00:00:00 | 2859 |    38 | ชาย      | Male       | ไทย      | Thai       | ยะลา          |           47 | บันนังสตา        | Yala                     |      nan |\n",
      "|  96 | 2020-04-25 00:00:00 | 2858 |    68 | ชาย      | Male       | ไทย      | Thai       | กรุงเทพมหานคร  |            1 | เมือง           | Bangkok                  |      nan |\n",
      "|  97 | 2020-04-25 00:00:00 | 2857 |    22 | หญิง      | Female     | ไทย      | Thai       | กรุงเทพมหานคร  |            1 | บางแค          | Bangkok                  |      nan |\n",
      "|  98 | 2020-04-25 00:00:00 | 2856 |    28 | ชาย      | Male       | ไทย      | Thai       | ชลบุรี          |            9 | พานทอง         | Chonburi                 |      nan |\n",
      "|  99 | 2020-04-25 00:00:00 | 2855 |    60 | ชาย      | Male       | ไทย      | Thai       | ภูเก็ต          |           42 | เมือง           | Phuket                   |      nan |\n",
      "| 100 | 2020-04-24 00:00:00 | 2854 |    15 | ชาย      | Male       | ไทย      | Thai       | ยะลา          |           47 | บันนังสตา        | Yala                     |      nan |\n",
      "| 101 | 2020-04-24 00:00:00 | 2853 |    48 | หญิง      | Female     | ไทย      | Thai       | ยะลา          |           47 | เมือง           | Yala                     |      nan |\n",
      "| 102 | 2020-04-24 00:00:00 | 2852 |     8 | หญิง      | Female     | ไทย      | Thai       | ยะลา          |           47 | เมือง           | Yala                     |      nan |\n",
      "| 103 | 2020-04-24 00:00:00 | 2851 |    57 | หญิง      | Female     | ไทย      | Thai       | ยะลา          |           47 | เมือง           | Yala                     |      nan |\n",
      "| 104 | 2020-04-24 00:00:00 | 2850 |    23 | หญิง      | Female     | ไทย      | Thai       | ปทุมธานี        |           29 | คลองหลวง       | Pathum Thani             |      nan |\n",
      "| 105 | 2020-04-24 00:00:00 | 2849 |    27 | หญิง      | Female     | ไทย      | Thai       | สมุทรปราการ    |           60 | ลำลูกา          | Samut Prakan             |      nan |\n",
      "| 106 | 2020-04-24 00:00:00 | 2848 |     1 | ชาย      | Male       | ไทย      | Thai       | กรุงเทพมหานคร  |            1 | จอมทอง         | Bangkok                  |      nan |\n",
      "| 107 | 2020-04-24 00:00:00 | 2847 |    40 | ชาย      | Male       | อังกฤษ    | English    | กรุงเทพมหานคร  |            1 | วัฒนา           | Bangkok                  |      nan |\n",
      "| 108 | 2020-04-24 00:00:00 | 2846 |    51 | ชาย      | Male       | ไทย      | Thai       | กรุงเทพมหานคร  |            1 | จอมทอง         | Bangkok                  |      nan |\n",
      "| 109 | 2020-04-24 00:00:00 | 2845 |    47 | ชาย      | Male       | ฟิลิปปินส์   | Filipino   | กรุงเทพมหานคร  |            1 | วัฒนา           | Bangkok                  |      nan |\n",
      "| 110 | 2020-04-24 00:00:00 | 2844 |    41 | หญิง      | Female     | ไทย      | Thai       | ภูเก็ต          |           42 | ถลาง           | Phuket                   |      nan |\n",
      "| 111 | 2020-04-24 00:00:00 | 2843 |    48 | ชาย      | Male       | ไทย      | Thai       | สงขลา         |           58 | สะเดา          | Songkhla                 |      nan |\n",
      "| 112 | 2020-04-24 00:00:00 | 2842 |    40 | ชาย      | Male       | ไทย      | Thai       | ภูเก็ต          |           42 | ถลาง           | Phuket                   |      nan |\n",
      "| 113 | 2020-04-24 00:00:00 | 2841 |    26 | หญิง      | Female     | ไทย      | Thai       | ภูเก็ต          |           42 | เมือง           | Phuket                   |      nan |\n",
      "| 114 | 2020-04-24 00:00:00 | 2840 |     3 | ชาย      | Male       | ไทย      | Thai       | ภูเก็ต          |           42 | ถลาง           | Phuket                   |      nan |\n",
      "| 115 | 2020-04-23 00:00:00 | 2839 |    82 | ชาย      | Male       | ไทย      | Thai       | ภูเก็ต          |           42 | ถลาง           | Phuket                   |      nan |\n",
      "| 116 | 2020-04-23 00:00:00 | 2838 |    42 | หญิง      | Female     | ไทย      | Thai       | ภูเก็ต          |           42 | ถลาง           | Phuket                   |      nan |\n",
      "| 117 | 2020-04-23 00:00:00 | 2837 |    44 | ชาย      | Male       | ไทย      | Thai       | ภูเก็ต          |           42 | ถลาง           | Phuket                   |      nan |\n",
      "| 118 | 2020-04-23 00:00:00 | 2836 |    29 | หญิง      | Female     | ไทย      | Thai       | กรุงเทพมหานคร  |            1 | nan            | Bangkok                  |      nan |\n",
      "| 119 | 2020-04-23 00:00:00 | 2835 |    41 | ชาย      | Male       | ไทย      | Thai       | ปทุมธานี        |           29 | พญาไท          | Pathum Thani             |      nan |\n",
      "| 120 | 2020-04-23 00:00:00 | 2834 |    33 | หญิง      | Female     | ไทย      | Thai       | ภูเก็ต          |           42 | กะทู้            | Phuket                   |      nan |\n",
      "| 121 | 2020-04-23 00:00:00 | 2833 |    14 | ชาย      | Male       | ไทย      | Thai       | นครปฐม        |           19 | เมือง           | Nakhon Pathom            |      nan |\n",
      "| 122 | 2020-04-23 00:00:00 | 2832 |    34 | หญิง      | Female     | ไทย      | Thai       | กรุงเทพมหานคร  |            1 | พญาไท          | Bangkok                  |      nan |\n",
      "| 123 | 2020-04-23 00:00:00 | 2831 |    25 | ชาย      | Male       | ไทย      | Thai       | สงขลา         |           58 | สะเดา          | Songkhla                 |      nan |\n",
      "| 124 | 2020-04-23 00:00:00 | 2830 |    18 | ชาย      | Male       | ไทย      | Thai       | กรุงเทพมหานคร  |            1 | ราษฎร์บูรณะ      | Bangkok                  |      nan |\n",
      "| 125 | 2020-04-23 00:00:00 | 2829 |    49 | หญิง      | Female     | ไทย      | Thai       | ชุมพร          |           12 | ท่าแซะ          | Chumphon                 |      nan |\n",
      "| 126 | 2020-04-23 00:00:00 | 2828 |    83 | หญิง      | Female     | ไทย      | Thai       | กรุงเทพมหานคร  |            1 | ลาดกระบัง       | Bangkok                  |      nan |\n",
      "| 127 | 2020-04-23 00:00:00 | 2827 |    28 | หญิง      | Female     | ไทย      | Thai       | ชลบุรี          |            9 | ศรีราชา         | Chonburi                 |      nan |\n",
      "| 128 | 2020-04-22 00:00:00 | 2815 |    30 | หญิง      | Female     | ไทย      | Thai       | ชุมพร          |           12 | ทุ่งตะโก         | Chumphon                 |      nan |\n",
      "| 129 | 2020-04-22 00:00:00 | 2814 |    62 | หญิง      | Female     | ไทย      | Thai       | ชุมพร          |           12 | หลังสวน         | Chumphon                 |      nan |\n",
      "| 130 | 2020-04-22 00:00:00 | 2825 |    23 | ชาย      | Male       | ไทย      | Thai       | ปทุมธานี        |           29 | วังน้อย          | Pathum Thani             |      nan |\n",
      "| 131 | 2020-04-22 00:00:00 | 2812 |     8 | ชาย      | Male       | ไทย      | Thai       | ชุมพร          |           12 | ทุ่งตะโก         | Chumphon                 |      nan |\n",
      "| 132 | 2020-04-22 00:00:00 | 2823 |    49 | หญิง      | Female     | ไทย      | Thai       | กรุงเทพมหานคร  |            1 | มีนบุรี           | Bangkok                  |      nan |\n",
      "| 133 | 2020-04-22 00:00:00 | 2821 |    26 | หญิง      | Female     | ไทย      | Thai       | กรุงเทพมหานคร  |            1 | วัฒนา           | Bangkok                  |      nan |\n",
      "| 134 | 2020-04-22 00:00:00 | 2820 |    57 | ชาย      | Male       | ไทย      | Thai       | พระนครศรีอยุธยา |           33 | nan            | Phra Nakhon Si Ayutthaya |      nan |\n",
      "| 135 | 2020-04-22 00:00:00 | 2826 |    28 | หญิง      | Female     | ไทย      | Thai       | นครปฐม        |           19 | บางเลน         | Nakhon Pathom            |      nan |\n",
      "| 136 | 2020-04-22 00:00:00 | 2816 |    26 | ชาย      | Male       | ไทย      | Thai       | สงขลา         |           58 | สะเดา          | Songkhla                 |      nan |\n",
      "| 137 | 2020-04-22 00:00:00 | 2819 |    23 | หญิง      | Female     | ไทย      | Thai       | สงขลา         |           58 | สะเดา          | Songkhla                 |      nan |\n",
      "| 138 | 2020-04-22 00:00:00 | 2824 |    31 | หญิง      | Female     | ไทย      | Thai       | พระนครศรีอยุธยา |           33 | ปากช่อง         | Phra Nakhon Si Ayutthaya |      nan |\n",
      "| 139 | 2020-04-22 00:00:00 | 2817 |    41 | ชาย      | Male       | ไทย      | Thai       | สงขลา         |           58 | หาดใหญ่         | Songkhla                 |      nan |\n",
      "| 140 | 2020-04-22 00:00:00 | 2813 |    80 | หญิง      | Female     | ไทย      | Thai       | ชุมพร          |           12 | ทุ่งตะโก         | Chumphon                 |      nan |\n",
      "| 141 | 2020-04-22 00:00:00 | 2818 |    38 | ชาย      | Male       | ไทย      | Thai       | สงขลา         |           58 | สะเดา          | Songkhla                 |      nan |\n",
      "| 142 | 2020-04-22 00:00:00 | 2822 |    32 | หญิง      | Female     | ไทย      | Thai       | กรุงเทพมหานคร  |            1 | บางกะปิ         | Bangkok                  |      nan |\n",
      "| 143 | 2020-04-21 00:00:00 | 2805 |    37 | ชาย      | Male       | ไทย      | Thai       | สงขลา         |           58 | สะเดา          | Songkhla                 |      nan |\n",
      "| 144 | 2020-04-21 00:00:00 | 2806 |    70 | ชาย      | Male       | ไทย      | Thai       | ปัตตานี         |           32 | ทุ่งยางแดง       | Pattani                  |      nan |\n",
      "| 145 | 2020-04-21 00:00:00 | 2802 |    52 | หญิง      | Female     | ไทย      | Thai       | กรุงเทพมหานคร  |            1 | ประเวศ         | Bangkok                  |      nan |\n",
      "| 146 | 2020-04-21 00:00:00 | 2811 |    43 | ชาย      | Male       | ไทย      | Thai       | กรุงเทพมหานคร  |            1 | เมือง           | Bangkok                  |      nan |\n",
      "| 147 | 2020-04-21 00:00:00 | 2808 |     4 | ชาย      | Male       | ไทย      | Thai       | กรุงเทพมหานคร  |            1 | บางเขน         | Bangkok                  |      nan |\n",
      "| 148 | 2020-04-21 00:00:00 | 2799 |    39 | หญิง      | Female     | ไทย      | Thai       | กรุงเทพมหานคร  |            1 | บางเขน         | Bangkok                  |      nan |\n",
      "| 149 | 2020-04-21 00:00:00 | 2800 |    30 | หญิง      | Female     | ไทย      | Thai       | กรุงเทพมหานคร  |            1 | จอมทอง         | Bangkok                  |      nan |\n"
     ]
    }
   ],
   "source": [
    "df = pd.read_excel(os.path.join(\"DATARAW\", 'COVID19_Thailand.xlsx'), nrows=150)\n",
    "print(df.to_markdown())"
   ]
  },
  {
   "cell_type": "markdown",
   "metadata": {},
   "source": [
    "## Reference\n",
    "1. https://stackoverflow.com/questions/12965203/how-to-get-json-from-webpage-into-python-script\n",
    "2. https://stackoverflow.com/questions/15008970/way-to-read-first-few-lines-for-pandas-dataframe"
   ]
  }
 ],
 "metadata": {
  "kernelspec": {
   "display_name": "Python 3",
   "language": "python",
   "name": "python3"
  },
  "language_info": {
   "codemirror_mode": {
    "name": "ipython",
    "version": 3
   },
   "file_extension": ".py",
   "mimetype": "text/x-python",
   "name": "python",
   "nbconvert_exporter": "python",
   "pygments_lexer": "ipython3",
   "version": "3.8.2"
  }
 },
 "nbformat": 4,
 "nbformat_minor": 4
}
