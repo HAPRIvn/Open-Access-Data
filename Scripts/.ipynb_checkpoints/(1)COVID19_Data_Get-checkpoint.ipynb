{
 "cells": [
  {
   "cell_type": "markdown",
   "metadata": {},
   "source": [
    "# COVID-19 Data Crawl on Wikipedia\n",
    "Data on numbers of confirmed, recovered cases, and deaths for COVID-19 in the developing countries is fragmented and not always provided in consistent or machine-friendly formats. Also, in many cases only the latest numbers are available so it's not possible to look at changes over time.\n",
    "\n",
    "This small Python script will crawl historical data from Wikipedia and export to an Excel file for HAPRI's partners in the respective country to double check. Data from this crawl only serves as reference.\n",
    "\n",
    "This raw data will be cleaned with STATA in the next step.\n",
    "\n",
    "For technical issue and further questions, please email Định Nguyễn, DinhNX@ueh.edu.vn."
   ]
  },
  {
   "cell_type": "markdown",
   "metadata": {},
   "source": [
    "## Import relevent packages"
   ]
  },
  {
   "cell_type": "code",
   "execution_count": 1,
   "metadata": {},
   "outputs": [],
   "source": [
    "import os\n",
    "import pandas as pd\n",
    "from openpyxl import load_workbook"
   ]
  },
  {
   "cell_type": "markdown",
   "metadata": {},
   "source": [
    "## Set working directory"
   ]
  },
  {
   "cell_type": "code",
   "execution_count": 2,
   "metadata": {},
   "outputs": [],
   "source": [
    "os.chdir('D:\\Dropbox (Vo Tat Thang)\\[0][Master]Database\\(1)Library_of_Data\\Web-Scrap') # Provide the path here"
   ]
  },
  {
   "cell_type": "markdown",
   "metadata": {},
   "source": [
    "## Set up lists"
   ]
  },
  {
   "cell_type": "code",
   "execution_count": 3,
   "metadata": {},
   "outputs": [],
   "source": [
    "country_name = [\"Cambodia\",\n",
    "                \"Laos\",\n",
    "                \"Thailand\"\n",
    "               ]\n",
    "                \n",
    "country_url = ['https://en.wikipedia.org/wiki/2020_coronavirus_pandemic_in_Cambodia', \n",
    "               'https://en.wikipedia.org/wiki/2020_coronavirus_pandemic_in_Laos',\n",
    "               'https://en.wikipedia.org/wiki/2020_coronavirus_pandemic_in_Thailand'\n",
    "              ]\n",
    "country_table = ['6', #Cambodia: Detail confirmed and recovered cases\n",
    "                 '1', #Laos: Detail confirmed and recovered cases\n",
    "                 '11' #Thailand: Death cases\n",
    "                ]"
   ]
  },
  {
   "cell_type": "markdown",
   "metadata": {},
   "source": [
    "## Begin crawling"
   ]
  },
  {
   "cell_type": "code",
   "execution_count": 4,
   "metadata": {
    "scrolled": false
   },
   "outputs": [
    {
     "name": "stdout",
     "output_type": "stream",
     "text": [
      "Crawling: Cambodia\n",
      "Crawling: Laos\n",
      "Crawling: Thailand\n"
     ]
    }
   ],
   "source": [
    "i = 1\n",
    "for url, name, table in zip(country_url, country_name, country_table):\n",
    "\n",
    "    df = pd.read_html(url, header=0)[int(table)]\n",
    "\n",
    "    print(\"Crawling: {}\".format(name))\n",
    "    \n",
    "    #Create new excel file for first sheet\n",
    "    if i == 1:\n",
    "\n",
    "        writer = pd.ExcelWriter(os.path.join(\"DATARAW\", 'COVID19_uncleaned.xlsx'), engine = 'openpyxl')\n",
    "        df.to_excel(writer \\\n",
    "                    , sheet_name = name \\\n",
    "                    , index = False)\n",
    "        writer.save()\n",
    "        writer.close() \n",
    "\n",
    "    #Append new sheet to the newly created excel file\n",
    "    elif i != 1: \n",
    "\n",
    "        book = load_workbook(os.path.join(\"DATARAW\", 'COVID19_uncleaned.xlsx'))\n",
    "        writer = pd.ExcelWriter(os.path.join(\"DATARAW\", 'COVID19_uncleaned.xlsx'), engine = 'openpyxl')\n",
    "        writer.book = book  \n",
    "        df.to_excel(writer \\\n",
    "                    , sheet_name = name \\\n",
    "                    , index = False)\n",
    "        writer.save()\n",
    "        writer.close() \n",
    "\n",
    "    else:\n",
    "\n",
    "        print(\"Something is wrong\")\n",
    "\n",
    "    i += 1"
   ]
  },
  {
   "cell_type": "markdown",
   "metadata": {},
   "source": [
    "# Check crawl accuracy"
   ]
  },
  {
   "cell_type": "code",
   "execution_count": 5,
   "metadata": {},
   "outputs": [
    {
     "data": {
      "text/plain": [
       "['Cambodia', 'Laos', 'Thailand']"
      ]
     },
     "execution_count": 5,
     "metadata": {},
     "output_type": "execute_result"
    }
   ],
   "source": [
    "book = load_workbook(os.path.join(\"DATARAW\", 'COVID19_uncleaned.xlsx'))\n",
    "book.sheetnames"
   ]
  },
  {
   "cell_type": "code",
   "execution_count": 6,
   "metadata": {
    "scrolled": false
   },
   "outputs": [
    {
     "name": "stdout",
     "output_type": "stream",
     "text": [
      "|    |   Case | Date          |   Age | Gen⁠der   | National⁠ity   | Location      |   Treatment facility | Previous country been to   | Status     | Note                                 |   Source |\n",
      "|---:|-------:|:--------------|------:|:---------|:--------------|:--------------|---------------------:|:---------------------------|:-----------|:-------------------------------------|---------:|\n",
      "|  0 |      1 | 24 March 2020 |    28 | Male     | Laos          | Vientiane     |                  nan | Thailand                   | In patient | nan                                  |      nan |\n",
      "|  1 |      2 | 24 March 2020 |    36 | Female   | Laos          | Vientiane     |                  nan | No                         | In patient | Tour guide                           |      nan |\n",
      "|  2 |      3 | 25 March 2020 |    26 | Male     | Laos          | Vientiane     |                  nan | Europe                     | In patient | Close contact with case 1            |      nan |\n",
      "|  3 |      4 | 26 March 2020 |    42 | Male     | Laos          | Luang Prabang |                  nan | No                         | In patient | Driver of same tour group as case 2. |      nan |\n",
      "|  4 |      5 | 26 March 2020 |    42 | Male     | Laos          | Luang Prabang |                  nan | No                         | In patient | nan                                  |      nan |\n",
      "|  5 |      6 | 26 March 2020 |    41 | Male     | Laos          | Vientiane     |                  nan | No                         | In patient | Close contact with case 3            |      nan |\n",
      "|  6 |      7 | 28 March 2020 |    50 | Female   | Laos          | Luang Prabang |                  nan | No                         | In patient | Wife of case 5                       |      nan |\n",
      "|  7 |      8 | 28 March 2020 |    18 | Male     | Laos          | Vientiane     |                  nan | No                         | In patient | Close contact with case 3            |      nan |\n",
      "|  8 |      9 | 29 March 2020 |    22 | Female   | Laos          | Vientiane     |                  nan | Thailand                   | In patient | Visited her relative in Bangkok      |      nan |\n",
      "|  9 |     10 | 25 March 2020 |    21 | Female   | Laos          | Vientiane     |                  nan | No                         | In patient | Close contact with case 8            |      nan |\n"
     ]
    }
   ],
   "source": [
    "df = pd.read_excel(os.path.join(\"DATARAW\", 'COVID19_uncleaned.xlsx'), sheet_name='Laos', nrows=10)\n",
    "print(df.to_markdown())"
   ]
  },
  {
   "cell_type": "code",
   "execution_count": 7,
   "metadata": {
    "scrolled": false
   },
   "outputs": [
    {
     "name": "stdout",
     "output_type": "stream",
     "text": [
      "|    |   Case | Date            | Age      | Gen⁠der   | National⁠ity    | Detection location   | Treatment facility               | Previous country been to   | Status                   | Note                                                                                                                                                                       | Source   |   Unnamed: 11 |\n",
      "|---:|-------:|:----------------|:---------|:---------|:---------------|:---------------------|:---------------------------------|:---------------------------|:-------------------------|:---------------------------------------------------------------------------------------------------------------------------------------------------------------------------|:---------|--------------:|\n",
      "|  0 |      1 | 27 January 2020 | 60       | Male     | China          | Sihanoukville        | Preah Si⁠hanouk Referral Hospital | China                      | Dis⁠charged (10 February) | Arrived from Wuhan on 23 January with his family.                                                                                                                          | [8]      |           nan |\n",
      "|  1 |      2 | 7 March 2020    | 38       | Male     | Cambodia       | Siem Reap            | Siem Reap Referral Hospital      | No                         | Dis⁠charged (30 March)    | To have person-to-person spread from his employer, a Japanese man in his 40s.                                                                                              | [18]     |           nan |\n",
      "|  2 |      3 | 10 March 2020   | 65       | Female   | United Kingdom | Kampong Cham         | Kampong Cham Pro⁠vincial Hospital | Vietnam                    | Dis⁠charged (22 March)    | Case 3-⁠5 were passengers of Viking Cruise Journey. Boarded the same plane from London to Hanoi. Possibly infected from a Vietnamese woman.Case 4 and 5 are married couple. | [20]     |           nan |\n",
      "|  3 |      3 | 10 March 2020   | 65       | Female   | United Kingdom | Kampong Cham         | Royal Ph⁠nom Penh Hospital        | Vietnam                    | Dis⁠charged (22 March)    | Case 3-⁠5 were passengers of Viking Cruise Journey. Boarded the same plane from London to Hanoi. Possibly infected from a Vietnamese woman.Case 4 and 5 are married couple. | [20]     |           nan |\n",
      "|  4 |      4 | 12 March 2020   | 73       | Male     | United Kingdom | Kampong Cham         | Khmer-Soviet Friendship Hospital | Vietnam                    | Dis⁠charged (29 March)    | Case 3-⁠5 were passengers of Viking Cruise Journey. Boarded the same plane from London to Hanoi. Possibly infected from a Vietnamese woman.Case 4 and 5 are married couple. | [24]     |           nan |\n",
      "|  5 |      5 | 12 March 2020   | 69       | Female   | United Kingdom | Kampong Cham         | Khmer-Soviet Friendship Hospital | Vietnam                    | Dis⁠charged (29 March)    | Case 3-⁠5 were passengers of Viking Cruise Journey. Boarded the same plane from London to Hanoi. Possibly infected from a Vietnamese woman.Case 4 and 5 are married couple. | [24]     |           nan |\n",
      "|  6 |      6 | 13 March 2020   | 49       | Male     | Canada         | Phnom Penh           | Khmer-Soviet Friendship Hospital | Thailand                   | Discharged (18 April)    | A staff of Canadian International School, Koh Pich Campus.                                                                                                                 | [27]     |           nan |\n",
      "|  7 |      7 | 13 March 2020   | 33       | Male     | Belgium        | Phnom Penh           | Khmer-Soviet Friendship Hospital | Undisclosed                | Dis⁠charged (2 April)     | Identity requested to be concealed.                                                                                                                                        | [27]     |           nan |\n",
      "|  8 |      8 | 15 March 2020   | 35       | Male     | France         | Singapore            | Khmer-Soviet Friendship Hospital | Singapore                  | Dis⁠charged (27 April)    | Arrived from Singapore on 14 March. Possibly infected in France.                                                                                                           | [34][36] |           nan |\n",
      "|  9 |      9 | 15 March 2020   | 4 months | Male     | France         | Phnom Penh           | National Pediatric Hospital      | Singapore                  | Dis⁠charged (3 April)     | Child of case 8. Spread from his father.                                                                                                                                   | [34][36] |           nan |\n"
     ]
    }
   ],
   "source": [
    "df = pd.read_excel(os.path.join(\"DATARAW\", 'COVID19_uncleaned.xlsx'), sheet_name='Cambodia', nrows=10)\n",
    "print(df.to_markdown())"
   ]
  },
  {
   "cell_type": "code",
   "execution_count": 8,
   "metadata": {
    "scrolled": false
   },
   "outputs": [
    {
     "name": "stdout",
     "output_type": "stream",
     "text": [
      "|    |   Cases Order |   Age | Gender   | Province      | Nationality   | Hospital admitted to                                              | Been to other country   | Status              | Occupation                                            | Note                                                                                                                                                                                                                                                                   |\n",
      "|---:|--------------:|------:|:---------|:--------------|:--------------|:------------------------------------------------------------------|:------------------------|:--------------------|:------------------------------------------------------|:-----------------------------------------------------------------------------------------------------------------------------------------------------------------------------------------------------------------------------------------------------------------------|\n",
      "|  0 |             1 |    35 | Male     | Samut Prakan  | Thailand      | Bamrasnaradura Infectious Diseases Institute, Nonthaburi Province | No                      | Died on 29 February | Product Consultant at King Power store Sivaree branch | Patient had been in contact with many tourists, was diagnosed with both dengue fever and COVID-19. Tested negative for COVID-19 on 16 February but was medically beyond recovery, later died from multiple organ failure.[65][66][51]                                  |\n",
      "|  1 |             2 |    70 | Male     | Bangkok       | Thailand      | Bamrasnaradura Infectious Diseases Institute, Nonthaburi Province | No                      | Died on 23 March    | Private car driver                                    | Patient also had tuberculosis.[67][68]                                                                                                                                                                                                                                 |\n",
      "|  2 |             3 |    79 | Male     | Bangkok       | Thailand      | Bamrasnaradura Infectious Diseases Institute, Nonthaburi Province | No                      | Died on 23 March    | Muay Thai pundit                                      | Patient had other ailments and severe symptoms from the beginning; admitted to hospital on March 16.[69]                                                                                                                                                               |\n",
      "|  3 |             4 |    45 | Male     | Bangkok       | Thailand      | Undisclosed Hospital                                              | No                      | Died on 23 March    | Security guard in Thonglor Pub                        | Patient had diabetes and obesity, Admit to hospital on March 14, The wife and 2 children, were infected.[70][71]                                                                                                                                                       |\n",
      "|  4 |             5 |    50 | Male     | Narathiwat    | Thailand      | Su-ngai Kolok Hospital, Narathiwat Province                       | Malaysia                | Died on 27 March    | nan                                                   | The first Thai to die from participation in a religious event on February 27, which took place in Kuala Lumpur. The wife, who was infected from her husband, was discharged from hospital and returned to home. Their three children were negative for SARS-CoV-2.[72] |\n",
      "|  5 |             6 |    55 | Female   | Bangkok       | Thailand      | Undisclosed Hospital                                              | No                      | Died on 28 March    | nan                                                   | Patient had diabetes and hyperlipidemia. patient admitted to hospital on March 23 with wheezing symptoms.[73]                                                                                                                                                          |\n",
      "|  6 |             7 |    68 | Male     | Nonthaburi    | Thailand      | Nonthavej Hospital, Nonthaburi Province                           | No                      | Died on 28 March    | nan                                                   | Patient visited Lumpinee Boxing Stadium on March 6, Go to Hospital on March 15 with dizziness and back home, Admit to hospital on March 27 feel tight and suffocate [74]                                                                                               |\n",
      "|  7 |             8 |    54 | Male     | Yala          | Thailand      | Undisclosed Hospital                                              | Malaysia                | Died on 29 March    | Merchant                                              | Patient had been in Malaysia on 12 March, admitted to hospital 16 March, had diabetes and high blood pressure.[75]                                                                                                                                                     |\n",
      "|  8 |             9 |    56 | Female   | Bangkok       | Thailand      | Undisclosed Hospital                                              | No                      | Died on 29 March    | nan                                                   | No underlying disease.                                                                                                                                                                                                                                                 |\n",
      "|  9 |            10 |    48 | Male     | Maha Sarakham | Thailand      | Maha Sarakham Hospital, Maha Sarakam                              | No                      | Died on 30 March    | Musician                                              | Patient had diabetes, Intestinal cancer and Hepatitis B, Admitted to hospital 26 March.[76]                                                                                                                                                                            |\n"
     ]
    }
   ],
   "source": [
    "df = pd.read_excel(os.path.join(\"DATARAW\", 'COVID19_uncleaned.xlsx'), sheet_name='Thailand', nrows=10)\n",
    "print(df.to_markdown())"
   ]
  },
  {
   "cell_type": "markdown",
   "metadata": {},
   "source": [
    "## Reference\n",
    "1. https://realpython.com/openpyxl-excel-spreadsheets-python/\n",
    "2. https://www.journaldev.com/33306/pandas-read_excel-reading-excel-file-in-python"
   ]
  }
 ],
 "metadata": {
  "kernelspec": {
   "display_name": "Python 3",
   "language": "python",
   "name": "python3"
  },
  "language_info": {
   "codemirror_mode": {
    "name": "ipython",
    "version": 3
   },
   "file_extension": ".py",
   "mimetype": "text/x-python",
   "name": "python",
   "nbconvert_exporter": "python",
   "pygments_lexer": "ipython3",
   "version": "3.8.2"
  }
 },
 "nbformat": 4,
 "nbformat_minor": 4
}
