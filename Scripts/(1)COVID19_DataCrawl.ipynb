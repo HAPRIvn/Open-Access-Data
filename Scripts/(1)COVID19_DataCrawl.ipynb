{
 "cells": [
  {
   "cell_type": "code",
   "execution_count": 1,
   "metadata": {},
   "outputs": [],
   "source": [
    "import os\n",
    "import pandas as pd\n",
    "from openpyxl import load_workbook"
   ]
  },
  {
   "cell_type": "code",
   "execution_count": 2,
   "metadata": {},
   "outputs": [],
   "source": [
    "os.chdir('D:\\Dropbox (Vo Tat Thang)\\[0][Master]Database\\(1)Library_of_Data\\Web-Scrap') # Provide the path here"
   ]
  },
  {
   "cell_type": "code",
   "execution_count": 3,
   "metadata": {},
   "outputs": [],
   "source": [
    "country_name = [\"Cambodia\",\n",
    "                \"Laos\"]\n",
    "country_url = ['https://en.wikipedia.org/wiki/2020_coronavirus_pandemic_in_Cambodia', \n",
    "               'https://en.wikipedia.org/wiki/2020_coronavirus_pandemic_in_Laos']\n",
    "country_table = ['3', '1']"
   ]
  },
  {
   "cell_type": "code",
   "execution_count": 4,
   "metadata": {
    "scrolled": false
   },
   "outputs": [],
   "source": [
    "i = 1\n",
    "for url, name, table in zip(country_url, country_name, country_table):\n",
    "\n",
    "    df = pd.read_html(url, header=0)[int(table)]\n",
    "    \n",
    "    df.head()\n",
    "    \n",
    "    #Create new excel file for first sheet\n",
    "    if i == 1:\n",
    "\n",
    "        writer = pd.ExcelWriter(os.path.join(\"DATARAW\", 'COVID19_uncleaned.xlsx'), engine = 'openpyxl')\n",
    "        df.to_excel(writer \\\n",
    "                    , sheet_name = name \\\n",
    "                    , index = False)\n",
    "        writer.save()\n",
    "        writer.close() \n",
    "\n",
    "    #Append to the newly created excel file\n",
    "    elif i != 1: \n",
    "\n",
    "        book = load_workbook(os.path.join(\"DATARAW\", 'COVID19_uncleaned.xlsx'))\n",
    "        writer = pd.ExcelWriter(os.path.join(\"DATARAW\", 'COVID19_uncleaned.xlsx'), engine = 'openpyxl')\n",
    "        writer.book = book  \n",
    "        df.to_excel(writer \\\n",
    "                    , sheet_name = name \\\n",
    "                    , index = False)\n",
    "        writer.save()\n",
    "        writer.close() \n",
    "\n",
    "    else:\n",
    "\n",
    "        print(\"Something is wrong\")\n",
    "\n",
    "    i += 1"
   ]
  },
  {
   "cell_type": "code",
   "execution_count": null,
   "metadata": {},
   "outputs": [],
   "source": []
  }
 ],
 "metadata": {
  "kernelspec": {
   "display_name": "Python 3",
   "language": "python",
   "name": "python3"
  },
  "language_info": {
   "codemirror_mode": {
    "name": "ipython",
    "version": 3
   },
   "file_extension": ".py",
   "mimetype": "text/x-python",
   "name": "python",
   "nbconvert_exporter": "python",
   "pygments_lexer": "ipython3",
   "version": "3.8.2"
  }
 },
 "nbformat": 4,
 "nbformat_minor": 4
}
