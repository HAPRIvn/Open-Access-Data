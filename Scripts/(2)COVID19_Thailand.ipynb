{
 "cells": [
  {
   "cell_type": "markdown",
   "metadata": {},
   "source": [
    "# Import COVID-19 Data cases from Thailand's Department of Decases Control\n",
    "\n",
    "The result of this script is the raw COVID-19 cases data from Thailand Department of Decease Control. The data will be cleaned in STATA in the next step.\n",
    "\n",
    "Data is available at https://data.go.th/en/dataset/covid-19-daily"
   ]
  },
  {
   "cell_type": "markdown",
   "metadata": {},
   "source": [
    "## Import relevent packages"
   ]
  },
  {
   "cell_type": "code",
   "execution_count": 1,
   "metadata": {},
   "outputs": [],
   "source": [
    "import os\n",
    "import requests\n",
    "import pandas as pd\n",
    "from openpyxl import load_workbook"
   ]
  },
  {
   "cell_type": "markdown",
   "metadata": {},
   "source": [
    "## Set working directory"
   ]
  },
  {
   "cell_type": "code",
   "execution_count": 2,
   "metadata": {},
   "outputs": [],
   "source": [
    "os.chdir('D:\\Dropbox (Vo Tat Thang)\\[0][Master]Database\\(1)Library_of_Data\\Web-Scrap') # Provide the path here"
   ]
  },
  {
   "cell_type": "markdown",
   "metadata": {},
   "source": [
    "## Set up URL"
   ]
  },
  {
   "cell_type": "code",
   "execution_count": 3,
   "metadata": {},
   "outputs": [],
   "source": [
    "data_url = 'https://covid19.th-stat.com/api/open/cases'"
   ]
  },
  {
   "cell_type": "markdown",
   "metadata": {},
   "source": [
    "## Get data from the server and convert to JSON format"
   ]
  },
  {
   "cell_type": "code",
   "execution_count": 4,
   "metadata": {},
   "outputs": [
    {
     "name": "stdout",
     "output_type": "stream",
     "text": [
      "Last update: 03/05/2020\n"
     ]
    }
   ],
   "source": [
    "response = requests.get(data_url)\n",
    "response_json = response.json()\n",
    "print('Last update: {}'.format(response_json['UpdateDate']))"
   ]
  },
  {
   "cell_type": "markdown",
   "metadata": {},
   "source": [
    "### Extract data and save to Excel format"
   ]
  },
  {
   "cell_type": "code",
   "execution_count": 5,
   "metadata": {},
   "outputs": [],
   "source": [
    "data_json = response_json['Data']"
   ]
  },
  {
   "cell_type": "code",
   "execution_count": 6,
   "metadata": {},
   "outputs": [],
   "source": [
    "writer = pd.ExcelWriter(os.path.join(\"DATARAW\", 'COVID19_Thailand.xlsx'), engine = 'openpyxl')\n",
    "\n",
    "df1 = pd.DataFrame(data_json)\n",
    "df1.to_excel(writer, index = False)\n",
    "\n",
    "writer.save()\n",
    "writer.close()"
   ]
  },
  {
   "cell_type": "markdown",
   "metadata": {},
   "source": [
    "## Check crawl accuracy"
   ]
  },
  {
   "cell_type": "code",
   "execution_count": 7,
   "metadata": {},
   "outputs": [
    {
     "name": "stdout",
     "output_type": "stream",
     "text": [
      "|    | ConfirmDate         |   No |   Age | Gender   | GenderEn   | Nation       | NationEn   | Province     |   ProvinceId | District   | ProvinceEn   |   Detail |\n",
      "|---:|:--------------------|-----:|------:|:---------|:-----------|:-------------|:-----------|:-------------|-------------:|:-----------|:-------------|---------:|\n",
      "|  0 | 2020-05-03 00:00:00 | 2969 |    24 | ชาย      | Male       | ไทย          | Thai       | นราธิวาส      |           25 | จะแนะ      | Narathiwat   |      nan |\n",
      "|  1 | 2020-05-03 00:00:00 | 2968 |    51 | หญิง      | Female     | ไทย          | Thai       | กรุงเทพมหานคร |            1 | บึงกุ่ม       | Bangkok      |      nan |\n",
      "|  2 | 2020-05-03 00:00:00 | 2967 |    35 | ชาย      | Male       | ไทย          | Thai       | กรุงเทพมหานคร |            1 | คลองจั่น     | Bangkok      |      nan |\n",
      "|  3 | 2020-04-04 00:00:00 |  nan |    51 | ชาย      | Male       | สหราชอาณาจักร | British    | กรุงเทพมหานคร |            1 | nan        | Bangkok      |      nan |\n",
      "|  4 | 2020-05-02 00:00:00 | 2966 |    52 | หญิง      | Female     | ไทย          | Thai       | กรุงเทพมหานคร |            1 | พระนคร     | Bangkok      |      nan |\n",
      "|  5 | 2020-05-02 00:00:00 | 2965 |    52 | ชาย      | Male       | ไทย          | Thai       | กรุงเทพมหานคร |            1 | ดินแดง      | Bangkok      |      nan |\n",
      "|  6 | 2020-05-02 00:00:00 | 2964 |    21 | หญิง      | Female     | ไทย          | Thai       | ภูเก็ต         |           42 | ถลาง       | Phuket       |      nan |\n",
      "|  7 | 2020-05-02 00:00:00 | 2963 |    58 | หญิง      | Female     | ไทย          | Thai       | ภูเก็ต         |           42 | ถลาง       | Phuket       |      nan |\n",
      "|  8 | 2020-05-02 00:00:00 | 2962 |    22 | หญิง      | Female     | ไทย          | Thai       | กรุงเทพมหานคร |            1 | บางซื่อ      | Bangkok      |      nan |\n",
      "|  9 | 2020-05-02 00:00:00 | 2961 |    48 | ชาย      | Male       | ไทย          | Thai       | ภูเก็ต         |           42 | ถลาง       | Phuket       |      nan |\n"
     ]
    }
   ],
   "source": [
    "df = pd.read_excel(os.path.join(\"DATARAW\", 'COVID19_Thailand.xlsx'), nrows=10)\n",
    "print(df.to_markdown())"
   ]
  },
  {
   "cell_type": "markdown",
   "metadata": {},
   "source": [
    "## Reference\n",
    "1. https://stackoverflow.com/questions/12965203/how-to-get-json-from-webpage-into-python-script\n",
    "2. https://stackoverflow.com/questions/15008970/way-to-read-first-few-lines-for-pandas-dataframe"
   ]
  }
 ],
 "metadata": {
  "kernelspec": {
   "display_name": "Python 3",
   "language": "python",
   "name": "python3"
  },
  "language_info": {
   "codemirror_mode": {
    "name": "ipython",
    "version": 3
   },
   "file_extension": ".py",
   "mimetype": "text/x-python",
   "name": "python",
   "nbconvert_exporter": "python",
   "pygments_lexer": "ipython3",
   "version": "3.8.2"
  }
 },
 "nbformat": 4,
 "nbformat_minor": 4
}
