{
 "cells": [
  {
   "cell_type": "markdown",
   "metadata": {},
   "source": [
    "# Import COVID-19 Data cases from Thailand's Department of Decases Control\n",
    "\n",
    "The result of this script is the raw COVID-19 cases data from Thailand Department of Decease Control. The data will be cleaned in STATA in the next step.\n",
    "\n",
    "Data is available at https://data.go.th/en/dataset/covid-19-daily"
   ]
  },
  {
   "cell_type": "markdown",
   "metadata": {},
   "source": [
    "## Import relevent packages"
   ]
  },
  {
   "cell_type": "code",
   "execution_count": 1,
   "metadata": {},
   "outputs": [],
   "source": [
    "import os\n",
    "import requests\n",
    "import pandas as pd\n",
    "from openpyxl import load_workbook"
   ]
  },
  {
   "cell_type": "markdown",
   "metadata": {},
   "source": [
    "## Set working directory"
   ]
  },
  {
   "cell_type": "code",
   "execution_count": 2,
   "metadata": {},
   "outputs": [],
   "source": [
    "os.chdir(r'C:\\Users\\NXDin\\Dropbox (Vo Tat Thang)\\[0][Master]Database\\(1)Library_of_Data\\Web-Scrap') # Provide the path here\n",
    "#os.chdir('D:\\Dropbox (Vo Tat Thang)\\[0][Master]Database\\(1)Library_of_Data\\Web-Scrap') # Provide the path here"
   ]
  },
  {
   "cell_type": "markdown",
   "metadata": {},
   "source": [
    "## Set up URL"
   ]
  },
  {
   "cell_type": "code",
   "execution_count": 3,
   "metadata": {},
   "outputs": [],
   "source": [
    "data_url = 'https://covid19.th-stat.com/api/open/cases'"
   ]
  },
  {
   "cell_type": "markdown",
   "metadata": {},
   "source": [
    "## Get data from the server and convert to JSON format"
   ]
  },
  {
   "cell_type": "code",
   "execution_count": 4,
   "metadata": {},
   "outputs": [
    {
     "name": "stdout",
     "output_type": "stream",
     "text": [
      "Last update: 04/05/2020\n"
     ]
    }
   ],
   "source": [
    "response = requests.get(data_url)\n",
    "response_json = response.json()\n",
    "print('Last update: {}'.format(response_json['UpdateDate']))"
   ]
  },
  {
   "cell_type": "markdown",
   "metadata": {},
   "source": [
    "### Extract data and save to Excel format"
   ]
  },
  {
   "cell_type": "code",
   "execution_count": 5,
   "metadata": {},
   "outputs": [],
   "source": [
    "data_json = response_json['Data']"
   ]
  },
  {
   "cell_type": "code",
   "execution_count": 6,
   "metadata": {},
   "outputs": [],
   "source": [
    "writer = pd.ExcelWriter(os.path.join(\"DATARAW\", 'COVID19_Thailand.xlsx'), engine = 'openpyxl')\n",
    "\n",
    "df1 = pd.DataFrame(data_json)\n",
    "df1.to_excel(writer, index = False)\n",
    "\n",
    "writer.save()\n",
    "writer.close()"
   ]
  },
  {
   "cell_type": "markdown",
   "metadata": {},
   "source": [
    "## Check crawl accuracy"
   ]
  },
  {
   "cell_type": "code",
   "execution_count": 8,
   "metadata": {},
   "outputs": [
    {
     "data": {
      "text/html": [
       "<div>\n",
       "<style scoped>\n",
       "    .dataframe tbody tr th:only-of-type {\n",
       "        vertical-align: middle;\n",
       "    }\n",
       "\n",
       "    .dataframe tbody tr th {\n",
       "        vertical-align: top;\n",
       "    }\n",
       "\n",
       "    .dataframe thead th {\n",
       "        text-align: right;\n",
       "    }\n",
       "</style>\n",
       "<table border=\"1\" class=\"dataframe\">\n",
       "  <thead>\n",
       "    <tr style=\"text-align: right;\">\n",
       "      <th></th>\n",
       "      <th>ConfirmDate</th>\n",
       "      <th>No</th>\n",
       "      <th>Age</th>\n",
       "      <th>Gender</th>\n",
       "      <th>GenderEn</th>\n",
       "      <th>Nation</th>\n",
       "      <th>NationEn</th>\n",
       "      <th>Province</th>\n",
       "      <th>ProvinceId</th>\n",
       "      <th>District</th>\n",
       "      <th>ProvinceEn</th>\n",
       "      <th>Detail</th>\n",
       "    </tr>\n",
       "  </thead>\n",
       "  <tbody>\n",
       "    <tr>\n",
       "      <th>0</th>\n",
       "      <td>2020-05-04 00:00:00</td>\n",
       "      <td>2988</td>\n",
       "      <td>45</td>\n",
       "      <td>ชาย</td>\n",
       "      <td>Male</td>\n",
       "      <td>ไทย</td>\n",
       "      <td>Thai</td>\n",
       "      <td>นราธิวาส</td>\n",
       "      <td>25</td>\n",
       "      <td>แว้ง</td>\n",
       "      <td>Narathiwat</td>\n",
       "      <td>NaN</td>\n",
       "    </tr>\n",
       "    <tr>\n",
       "      <th>1</th>\n",
       "      <td>2020-05-04 00:00:00</td>\n",
       "      <td>2987</td>\n",
       "      <td>10</td>\n",
       "      <td>ชาย</td>\n",
       "      <td>Male</td>\n",
       "      <td>เมียนมา</td>\n",
       "      <td>NaN</td>\n",
       "      <td>สงขลา</td>\n",
       "      <td>58</td>\n",
       "      <td>สะเดา</td>\n",
       "      <td>Songkhla</td>\n",
       "      <td>NaN</td>\n",
       "    </tr>\n",
       "    <tr>\n",
       "      <th>2</th>\n",
       "      <td>2020-05-04 00:00:00</td>\n",
       "      <td>2986</td>\n",
       "      <td>20</td>\n",
       "      <td>หญิง</td>\n",
       "      <td>Female</td>\n",
       "      <td>โรฮินยา</td>\n",
       "      <td>NaN</td>\n",
       "      <td>สงขลา</td>\n",
       "      <td>58</td>\n",
       "      <td>สะเดา</td>\n",
       "      <td>Songkhla</td>\n",
       "      <td>NaN</td>\n",
       "    </tr>\n",
       "    <tr>\n",
       "      <th>3</th>\n",
       "      <td>2020-05-04 00:00:00</td>\n",
       "      <td>2985</td>\n",
       "      <td>19</td>\n",
       "      <td>หญิง</td>\n",
       "      <td>Female</td>\n",
       "      <td>โรฮินยา</td>\n",
       "      <td>NaN</td>\n",
       "      <td>สงขลา</td>\n",
       "      <td>58</td>\n",
       "      <td>สะเดา</td>\n",
       "      <td>Songkhla</td>\n",
       "      <td>NaN</td>\n",
       "    </tr>\n",
       "    <tr>\n",
       "      <th>4</th>\n",
       "      <td>2020-05-04 00:00:00</td>\n",
       "      <td>2984</td>\n",
       "      <td>19</td>\n",
       "      <td>หญิง</td>\n",
       "      <td>Female</td>\n",
       "      <td>โรฮินยา</td>\n",
       "      <td>NaN</td>\n",
       "      <td>สงขลา</td>\n",
       "      <td>58</td>\n",
       "      <td>สะเดา</td>\n",
       "      <td>Songkhla</td>\n",
       "      <td>NaN</td>\n",
       "    </tr>\n",
       "    <tr>\n",
       "      <th>5</th>\n",
       "      <td>2020-05-04 00:00:00</td>\n",
       "      <td>2983</td>\n",
       "      <td>22</td>\n",
       "      <td>หญิง</td>\n",
       "      <td>Female</td>\n",
       "      <td>โรฮินยา</td>\n",
       "      <td>NaN</td>\n",
       "      <td>สงขลา</td>\n",
       "      <td>58</td>\n",
       "      <td>สะเดา</td>\n",
       "      <td>Songkhla</td>\n",
       "      <td>NaN</td>\n",
       "    </tr>\n",
       "    <tr>\n",
       "      <th>6</th>\n",
       "      <td>2020-05-04 00:00:00</td>\n",
       "      <td>2982</td>\n",
       "      <td>20</td>\n",
       "      <td>หญิง</td>\n",
       "      <td>Female</td>\n",
       "      <td>โรฮินยา</td>\n",
       "      <td>NaN</td>\n",
       "      <td>สงขลา</td>\n",
       "      <td>58</td>\n",
       "      <td>สะเดา</td>\n",
       "      <td>Songkhla</td>\n",
       "      <td>NaN</td>\n",
       "    </tr>\n",
       "    <tr>\n",
       "      <th>7</th>\n",
       "      <td>2020-05-04 00:00:00</td>\n",
       "      <td>2981</td>\n",
       "      <td>20</td>\n",
       "      <td>หญิง</td>\n",
       "      <td>Female</td>\n",
       "      <td>โรฮินยา</td>\n",
       "      <td>NaN</td>\n",
       "      <td>สงขลา</td>\n",
       "      <td>58</td>\n",
       "      <td>สะเดา</td>\n",
       "      <td>Songkhla</td>\n",
       "      <td>NaN</td>\n",
       "    </tr>\n",
       "    <tr>\n",
       "      <th>8</th>\n",
       "      <td>2020-05-04 00:00:00</td>\n",
       "      <td>2980</td>\n",
       "      <td>18</td>\n",
       "      <td>หญิง</td>\n",
       "      <td>Female</td>\n",
       "      <td>โรฮินยา</td>\n",
       "      <td>NaN</td>\n",
       "      <td>สงขลา</td>\n",
       "      <td>58</td>\n",
       "      <td>สะเดา</td>\n",
       "      <td>Songkhla</td>\n",
       "      <td>NaN</td>\n",
       "    </tr>\n",
       "    <tr>\n",
       "      <th>9</th>\n",
       "      <td>2020-05-04 00:00:00</td>\n",
       "      <td>2979</td>\n",
       "      <td>16</td>\n",
       "      <td>หญิง</td>\n",
       "      <td>Female</td>\n",
       "      <td>โรฮินยา</td>\n",
       "      <td>NaN</td>\n",
       "      <td>สงขลา</td>\n",
       "      <td>58</td>\n",
       "      <td>สะเดา</td>\n",
       "      <td>Songkhla</td>\n",
       "      <td>NaN</td>\n",
       "    </tr>\n",
       "  </tbody>\n",
       "</table>\n",
       "</div>"
      ],
      "text/plain": [
       "           ConfirmDate    No  Age Gender GenderEn   Nation NationEn  Province  \\\n",
       "0  2020-05-04 00:00:00  2988   45    ชาย     Male      ไทย     Thai  นราธิวาส   \n",
       "1  2020-05-04 00:00:00  2987   10    ชาย     Male  เมียนมา      NaN     สงขลา   \n",
       "2  2020-05-04 00:00:00  2986   20   หญิง   Female  โรฮินยา      NaN     สงขลา   \n",
       "3  2020-05-04 00:00:00  2985   19   หญิง   Female  โรฮินยา      NaN     สงขลา   \n",
       "4  2020-05-04 00:00:00  2984   19   หญิง   Female  โรฮินยา      NaN     สงขลา   \n",
       "5  2020-05-04 00:00:00  2983   22   หญิง   Female  โรฮินยา      NaN     สงขลา   \n",
       "6  2020-05-04 00:00:00  2982   20   หญิง   Female  โรฮินยา      NaN     สงขลา   \n",
       "7  2020-05-04 00:00:00  2981   20   หญิง   Female  โรฮินยา      NaN     สงขลา   \n",
       "8  2020-05-04 00:00:00  2980   18   หญิง   Female  โรฮินยา      NaN     สงขลา   \n",
       "9  2020-05-04 00:00:00  2979   16   หญิง   Female  โรฮินยา      NaN     สงขลา   \n",
       "\n",
       "   ProvinceId District  ProvinceEn  Detail  \n",
       "0          25     แว้ง  Narathiwat     NaN  \n",
       "1          58    สะเดา    Songkhla     NaN  \n",
       "2          58    สะเดา    Songkhla     NaN  \n",
       "3          58    สะเดา    Songkhla     NaN  \n",
       "4          58    สะเดา    Songkhla     NaN  \n",
       "5          58    สะเดา    Songkhla     NaN  \n",
       "6          58    สะเดา    Songkhla     NaN  \n",
       "7          58    สะเดา    Songkhla     NaN  \n",
       "8          58    สะเดา    Songkhla     NaN  \n",
       "9          58    สะเดา    Songkhla     NaN  "
      ]
     },
     "metadata": {},
     "output_type": "display_data"
    }
   ],
   "source": [
    "df = pd.read_excel(os.path.join(\"DATARAW\", 'COVID19_Thailand.xlsx'), nrows=10)\n",
    "display(df)"
   ]
  },
  {
   "cell_type": "markdown",
   "metadata": {},
   "source": [
    "## Reference\n",
    "1. https://stackoverflow.com/questions/12965203/how-to-get-json-from-webpage-into-python-script\n",
    "2. https://stackoverflow.com/questions/15008970/way-to-read-first-few-lines-for-pandas-dataframe"
   ]
  }
 ],
 "metadata": {
  "kernelspec": {
   "display_name": "Python 3",
   "language": "python",
   "name": "python3"
  },
  "language_info": {
   "codemirror_mode": {
    "name": "ipython",
    "version": 3
   },
   "file_extension": ".py",
   "mimetype": "text/x-python",
   "name": "python",
   "nbconvert_exporter": "python",
   "pygments_lexer": "ipython3",
   "version": "3.7.4"
  }
 },
 "nbformat": 4,
 "nbformat_minor": 4
}
