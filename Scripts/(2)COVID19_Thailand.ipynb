{
 "cells": [
  {
   "cell_type": "markdown",
   "metadata": {},
   "source": [
    "# Import COVID-19 Data cases from Thailand's Department of Decases Control\n",
    "\n",
    "The result of this script is the raw COVID-19 cases data from Thailand Department of Decease Control. The data will be cleaned in STATA in the next step.\n",
    "\n",
    "Data is available at https://data.go.th/en/dataset/covid-19-daily"
   ]
  },
  {
   "cell_type": "markdown",
   "metadata": {},
   "source": [
    "## Import relevent packages"
   ]
  },
  {
   "cell_type": "code",
   "execution_count": 1,
   "metadata": {},
   "outputs": [],
   "source": [
    "import os\n",
    "import requests\n",
    "import pandas as pd\n",
    "from openpyxl import load_workbook"
   ]
  },
  {
   "cell_type": "markdown",
   "metadata": {},
   "source": [
    "## Set working directory"
   ]
  },
  {
   "cell_type": "code",
   "execution_count": 2,
   "metadata": {},
   "outputs": [],
   "source": [
    "os.chdir('D:\\Dropbox (Vo Tat Thang)\\[0][Master]Database\\(1)Library_of_Data\\Web-Scrap') # Provide the path here"
   ]
  },
  {
   "cell_type": "markdown",
   "metadata": {},
   "source": [
    "## Set up URL"
   ]
  },
  {
   "cell_type": "code",
   "execution_count": 3,
   "metadata": {},
   "outputs": [],
   "source": [
    "data_url = 'https://covid19.th-stat.com/api/open/cases'"
   ]
  },
  {
   "cell_type": "markdown",
   "metadata": {},
   "source": [
    "## Get data from the server and convert to JSON format"
   ]
  },
  {
   "cell_type": "code",
   "execution_count": 4,
   "metadata": {},
   "outputs": [
    {
     "name": "stdout",
     "output_type": "stream",
     "text": [
      "Last update: 02/05/2020\n"
     ]
    }
   ],
   "source": [
    "response = requests.get(data_url)\n",
    "response_json = response.json()\n",
    "print('Last update: {}'.format(response_json['UpdateDate']))"
   ]
  },
  {
   "cell_type": "markdown",
   "metadata": {},
   "source": [
    "### Extract data and save to Excel format"
   ]
  },
  {
   "cell_type": "code",
   "execution_count": 5,
   "metadata": {},
   "outputs": [],
   "source": [
    "data_json = response_json['Data']"
   ]
  },
  {
   "cell_type": "code",
   "execution_count": 6,
   "metadata": {},
   "outputs": [],
   "source": [
    "writer = pd.ExcelWriter(os.path.join(\"DATARAW\", 'COVID19_Thailand.xlsx'), engine = 'openpyxl')\n",
    "\n",
    "df1 = pd.DataFrame(data_json)\n",
    "df1.to_excel(writer, index = False)\n",
    "\n",
    "writer.save()\n",
    "writer.close()"
   ]
  },
  {
   "cell_type": "markdown",
   "metadata": {},
   "source": [
    "## Check crawl accuracy"
   ]
  },
  {
   "cell_type": "code",
   "execution_count": 7,
   "metadata": {},
   "outputs": [
    {
     "name": "stdout",
     "output_type": "stream",
     "text": [
      "|    | ConfirmDate         |   No |   Age | Gender   | GenderEn   | Nation   | NationEn   | Province     |   ProvinceId | District       | ProvinceEn        |   Detail |\n",
      "|---:|:--------------------|-----:|------:|:---------|:-----------|:---------|:-----------|:-------------|-------------:|:---------------|:------------------|---------:|\n",
      "|  0 | 2020-05-02 00:00:00 | 2966 |    52 | หญิง      | Female     | ไทย      | Thai       | กรุงเทพมหานคร |            1 | พระนคร         | Bangkok           |      nan |\n",
      "|  1 | 2020-05-02 00:00:00 | 2965 |    52 | ชาย      | Male       | ไทย      | Thai       | กรุงเทพมหานคร |            1 | ดินแดง          | Bangkok           |      nan |\n",
      "|  2 | 2020-05-02 00:00:00 | 2964 |    21 | หญิง      | Female     | ไทย      | Thai       | ภูเก็ต         |           42 | ถลาง           | Phuket            |      nan |\n",
      "|  3 | 2020-05-02 00:00:00 | 2963 |    58 | หญิง      | Female     | ไทย      | Thai       | ภูเก็ต         |           42 | ถลาง           | Phuket            |      nan |\n",
      "|  4 | 2020-05-02 00:00:00 | 2962 |    22 | หญิง      | Female     | ไทย      | Thai       | กรุงเทพมหานคร |            1 | nan            | Bangkok           |      nan |\n",
      "|  5 | 2020-05-02 00:00:00 | 2961 |    48 | ชาย      | Male       | ไทย      | Thai       | ภูเก็ต         |           42 | ถลาง           | Phuket            |      nan |\n",
      "|  6 | 2020-05-01 00:00:00 | 2960 |    39 | หญิง      | Female     | ไทย      | Thai       | ยะลา         |           47 | บันนังสะตา       | Yala              |      nan |\n",
      "|  7 | 2020-05-01 00:00:00 | 2959 |    54 | หญิง      | Female     | ไทย      | Thai       | ยะลา         |           47 | บันนังสะตา       | Yala              |      nan |\n",
      "|  8 | 2020-05-01 00:00:00 | 2958 |    21 | หญิง      | Female     | ไทย      | Thai       | ยะลา         |           47 | บันนังสะตา       | Yala              |      nan |\n",
      "|  9 | 2020-05-01 00:00:00 | 2957 |    23 | หญิง      | Female     | ไทย      | Thai       | ยะลา         |           47 | บันนังสะตา       | Yala              |      nan |\n",
      "| 10 | 2020-05-01 00:00:00 | 2956 |    47 | หญิง      | Female     | ไทย      | Thai       | ยะลา         |           47 | บันนังสตา        | Yala              |      nan |\n",
      "| 11 | 2020-05-01 00:00:00 | 2955 |    64 | ชาย      | Male       | ไทย      | Thai       | กรุงเทพมหานคร |            1 | บึงกุ่ม           | Bangkok           |      nan |\n",
      "| 12 | 2020-04-30 00:00:00 | 2954 |    15 | ชาย      | Male       | ไทย      | Thai       | กรุงเทพมหานคร |            1 | nan            | Bangkok           |      nan |\n",
      "| 13 | 2020-04-30 00:00:00 | 2953 |    26 | ชาย      | Male       | ไทย      | Thai       | กรุงเทพมหานคร |            1 | nan            | Bangkok           |      nan |\n",
      "| 14 | 2020-04-30 00:00:00 | 2952 |    21 | ชาย      | Male       | ไทย      | Thai       | กรุงเทพมหานคร |            1 | nan            | Bangkok           |      nan |\n",
      "| 15 | 2020-04-30 00:00:00 | 2951 |    31 | ชาย      | Male       | ไทย      | Thai       | ภูเก็ต         |           42 | ถลาง           | Phuket            |      nan |\n",
      "| 16 | 2020-04-30 00:00:00 | 2950 |    19 | ชาย      | Male       | ไทย      | Thai       | ภูเก็ต         |           42 | ถลาง           | Phuket            |      nan |\n",
      "| 17 | 2020-04-30 00:00:00 | 2949 |    53 | ชาย      | Male       | ไทย      | Thai       | ภูเก็ต         |           42 | ถลาง           | Phuket            |      nan |\n",
      "| 18 | 2020-04-30 00:00:00 | 2948 |    29 | หญิง      | Female     | ไทย      | Thai       | กระบี่         |            2 | nan            | Krabi             |      nan |\n",
      "| 19 | 2020-04-29 00:00:00 | 2944 |    39 | ชาย      | Male       | ไทย      | Thai       | กรุงเทพมหานคร |            1 | บางกะปิ         | Bangkok           |      nan |\n",
      "| 20 | 2020-04-29 00:00:00 | 2943 |    57 | หญิง      | Female     | ไทย      | Thai       | กรุงเทพมหานคร |            1 | คลองสาน        | Bangkok           |      nan |\n",
      "| 21 | 2020-04-29 00:00:00 | 2939 |     8 | หญิง      | Female     | ไทย      | Thai       | กรุงเทพมหานคร |            1 | เมือง           | Bangkok           |      nan |\n",
      "| 22 | 2020-04-29 00:00:00 | 2946 |    22 | หญิง      | Female     | ไทย      | Thai       | สมุทรปราการ   |           60 | nan            | Samut Prakan      |      nan |\n",
      "| 23 | 2020-04-29 00:00:00 | 2945 |    30 | หญิง      | Female     | ไทย      | Thai       | สมุทรปราการ   |           60 | nan            | Samut Prakan      |      nan |\n",
      "| 24 | 2020-04-29 00:00:00 | 2940 |    44 | หญิง      | Female     | ไทย      | Thai       | ภูเก็ต         |           42 | ถลาง           | Phuket            |      nan |\n",
      "| 25 | 2020-04-29 00:00:00 | 2941 |    62 | หญิง      | Female     | ไทย      | Thai       | ภูเก็ต         |           42 | ถลาง           | Phuket            |      nan |\n",
      "| 26 | 2020-04-29 00:00:00 | 2947 |    47 | หญิง      | Female     | ไทย      | Thai       | ภูเก็ต         |           42 | เมือง           | Phuket            |      nan |\n",
      "| 27 | 2020-04-29 00:00:00 | 2942 |    68 | หญิง      | Female     | ไทย      | Thai       | ภูเก็ต         |           42 | ถลาง           | Phuket            |      nan |\n",
      "| 28 | 2020-04-28 00:00:00 | 2938 |    25 | หญิง      | Female     | จีน       | Chinese    | กรุงเทพมหานคร |            1 | พัฒนาการ        | Bangkok           |      nan |\n",
      "| 29 | 2020-04-28 00:00:00 | 2937 |    39 | หญิง      | Female     | ไทย      | Thai       | กรุงเทพมหานคร |            1 | เมืองสมุทรปราการ | Bangkok           |      nan |\n",
      "| 30 | 2020-04-28 00:00:00 | 2936 |    50 | หญิง      | Female     | ไทย      | Thai       | ภูเก็ต         |           42 | nan            | Phuket            |      nan |\n",
      "| 31 | 2020-04-28 00:00:00 | 2935 |    20 | ชาย      | Male       | ไทย      | Thai       | ภูเก็ต         |           42 | nan            | Phuket            |      nan |\n",
      "| 32 | 2020-04-28 00:00:00 | 2934 |    23 | ชาย      | Male       | ไทย      | Thai       | ภูเก็ต         |           42 | nan            | Phuket            |      nan |\n",
      "| 33 | 2020-04-28 00:00:00 | 2933 |    37 | หญิง      | Female     | ไทย      | Thai       | กรุงเทพมหานคร |            1 | nan            | Bangkok           |      nan |\n",
      "| 34 | 2020-04-28 00:00:00 | 2932 |    34 | หญิง      | Female     | ไทย      | Thai       | นครราชสีมา    |           21 | ขามทะเลสอ      | Nakhon Ratchasima |      nan |\n",
      "| 35 | 2020-04-27 00:00:00 | 2924 |    24 | ชาย      | Male       | ไทย      | Thai       | สุพรรณบุรี      |           67 | อู่ทอง           | Suphan Buri       |      nan |\n",
      "| 36 | 2020-04-27 00:00:00 | 2931 |    18 | ชาย      | Male       | ไทย      | Thai       | กรุงเทพมหานคร |            1 | บางคอแหลม      | Bangkok           |      nan |\n",
      "| 37 | 2020-04-27 00:00:00 | 2928 |    55 | ชาย      | Male       | ไทย      | Thai       | ยะลา         |           47 | บันนังสตา        | Yala              |      nan |\n",
      "| 38 | 2020-04-27 00:00:00 | 2927 |    54 | ชาย      | Male       | ไทย      | Thai       | ยะลา         |           47 | บันนังสตา        | Yala              |      nan |\n",
      "| 39 | 2020-04-27 00:00:00 | 2923 |    66 | หญิง      | Female     | ไทย      | Thai       | ภูเก็ต         |           42 | ถลาง           | Phuket            |      nan |\n",
      "| 40 | 2020-04-27 00:00:00 | 2929 |    34 | ชาย      | Male       | ไทย      | Thai       | ยะลา         |           47 | บันนังสตา        | Yala              |      nan |\n",
      "| 41 | 2020-04-27 00:00:00 | 2930 |    16 | ชาย      | Male       | ไทย      | Thai       | กรุงเทพมหานคร |            1 | บางเขน         | Bangkok           |      nan |\n",
      "| 42 | 2020-04-27 00:00:00 | 2926 |    62 | ชาย      | Male       | ไทย      | Thai       | ยะลา         |           47 | บันนังสตา        | Yala              |      nan |\n",
      "| 43 | 2020-04-27 00:00:00 | 2925 |    12 | หญิง      | Female     | ไทย      | Thai       | ยะลา         |           47 | ยะหา           | Yala              |      nan |\n",
      "| 44 | 2020-04-26 00:00:00 | 2922 |    49 | ชาย      | Male       | ไทย      | Thai       | ชลบุรี         |            9 | สัตหีบ           | Chonburi          |      nan |\n",
      "| 45 | 2020-04-26 00:00:00 | 2921 |    45 | หญิง      | Female     | ไทย      | Thai       | กรุงเทพมหานคร |            1 | วัฒนา           | Bangkok           |      nan |\n",
      "| 46 | 2020-04-26 00:00:00 | 2920 |    32 | หญิง      | Female     | ไทย      | Thai       | กรุงเทพมหานคร |            1 | วัฒนา           | Bangkok           |      nan |\n",
      "| 47 | 2020-04-26 00:00:00 | 2919 |    42 | หญิง      | Female     | ไทย      | Thai       | กรุงเทพมหานคร |            1 | วัฒนา           | Bangkok           |      nan |\n",
      "| 48 | 2020-04-26 00:00:00 | 2918 |    32 | หญิง      | Female     | ไทย      | Thai       | กรุงเทพมหานคร |            1 | วัฒนา           | Bangkok           |      nan |\n",
      "| 49 | 2020-04-26 00:00:00 | 2917 |    66 | ชาย      | Male       | ไทย      | Thai       | ยะลา         |           47 | บันนังสตา        | Yala              |      nan |\n"
     ]
    }
   ],
   "source": [
    "df = pd.read_excel(os.path.join(\"DATARAW\", 'COVID19_Thailand.xlsx'), nrows=50)\n",
    "print(df.to_markdown())"
   ]
  },
  {
   "cell_type": "markdown",
   "metadata": {},
   "source": [
    "## Reference\n",
    "1. https://stackoverflow.com/questions/12965203/how-to-get-json-from-webpage-into-python-script\n",
    "2. https://stackoverflow.com/questions/15008970/way-to-read-first-few-lines-for-pandas-dataframe"
   ]
  }
 ],
 "metadata": {
  "kernelspec": {
   "display_name": "Python 3",
   "language": "python",
   "name": "python3"
  },
  "language_info": {
   "codemirror_mode": {
    "name": "ipython",
    "version": 3
   },
   "file_extension": ".py",
   "mimetype": "text/x-python",
   "name": "python",
   "nbconvert_exporter": "python",
   "pygments_lexer": "ipython3",
   "version": "3.8.2"
  }
 },
 "nbformat": 4,
 "nbformat_minor": 4
}
